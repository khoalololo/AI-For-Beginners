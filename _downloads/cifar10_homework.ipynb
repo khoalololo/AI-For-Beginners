{
  "cells": [
    {
      "cell_type": "code",
      "execution_count": 3,
      "metadata": {
        "id": "GDoCrx7M-wwl",
        "outputId": "26c227f5-6173-4e0f-8b78-a67046893eb6",
        "colab": {
          "base_uri": "https://localhost:8080/"
        }
      },
      "outputs": [
        {
          "output_type": "stream",
          "name": "stdout",
          "text": [
            "Collecting torchinfo\n",
            "  Downloading torchinfo-1.8.0-py3-none-any.whl.metadata (21 kB)\n",
            "Downloading torchinfo-1.8.0-py3-none-any.whl (23 kB)\n",
            "Installing collected packages: torchinfo\n",
            "Successfully installed torchinfo-1.8.0\n"
          ]
        }
      ],
      "source": [
        "pip install torchinfo"
      ]
    },
    {
      "cell_type": "markdown",
      "metadata": {
        "id": "c3YYHeg0-wwm"
      },
      "source": [
        "\n",
        "Training a Classifier\n",
        "=====================\n",
        "\n",
        "This is it. You have seen how to define neural networks, compute loss and make\n",
        "updates to the weights of the network.\n",
        "\n",
        "Now you might be thinking,\n",
        "\n",
        "What about data?\n",
        "----------------\n",
        "\n",
        "Generally, when you have to deal with image, text, audio or video data,\n",
        "you can use standard python packages that load data into a numpy array.\n",
        "Then you can convert this array into a ``torch.*Tensor``.\n",
        "\n",
        "-  For images, packages such as Pillow, OpenCV are useful\n",
        "-  For audio, packages such as scipy and librosa\n",
        "-  For text, either raw Python or Cython based loading, or NLTK and\n",
        "   SpaCy are useful\n",
        "\n",
        "Specifically for vision, we have created a package called\n",
        "``torchvision``, that has data loaders for common datasets such as\n",
        "Imagenet, CIFAR10, MNIST, etc. and data transformers for images, viz.,\n",
        "``torchvision.datasets`` and ``torch.utils.data.DataLoader``.\n",
        "\n",
        "This provides a huge convenience and avoids writing boilerplate code.\n",
        "\n",
        "For this tutorial, we will use the CIFAR10 dataset.\n",
        "It has the classes: ‘airplane’, ‘automobile’, ‘bird’, ‘cat’, ‘deer’,\n",
        "‘dog’, ‘frog’, ‘horse’, ‘ship’, ‘truck’. The images in CIFAR-10 are of\n",
        "size 3x32x32, i.e. 3-channel color images of 32x32 pixels in size.\n",
        "\n",
        ".. figure:: /_static/img/cifar10.png\n",
        "   :alt: cifar10\n",
        "\n",
        "   cifar10\n",
        "\n",
        "\n",
        "Training an image classifier\n",
        "----------------------------\n",
        "\n",
        "We will do the following steps in order:\n",
        "\n",
        "1. Load and normalizing the CIFAR10 training and test datasets using\n",
        "   ``torchvision``\n",
        "2. Define a Convolution Neural Network\n",
        "3. Define a loss function\n",
        "4. Train the network on the training data\n",
        "5. Test the network on the test data\n",
        "\n",
        "1. Loading and normalizing CIFAR10\n",
        "^^^^^^^^^^^^^^^^^^^^^^^^^^^^^^^^^^\n",
        "\n",
        "Using ``torchvision``, it’s extremely easy to load CIFAR10.\n",
        "\n"
      ]
    },
    {
      "cell_type": "code",
      "execution_count": 1,
      "metadata": {
        "id": "aJIAbnDh-wwq",
        "outputId": "6efeef58-e919-4a08-9f7a-c73abb3470c1",
        "colab": {
          "base_uri": "https://localhost:8080/"
        }
      },
      "outputs": [
        {
          "output_type": "stream",
          "name": "stdout",
          "text": [
            "cuda:0\n"
          ]
        }
      ],
      "source": [
        "import torch\n",
        "import torchvision\n",
        "import torchvision.transforms as transforms\n",
        "device = torch.device(\"cuda:0\" if torch.cuda.is_available() else \"cpu\")\n",
        "\n",
        "\n",
        "print(device)"
      ]
    },
    {
      "cell_type": "markdown",
      "metadata": {
        "id": "oObdoqyS-wws"
      },
      "source": [
        "The output of torchvision datasets are PILImage images of range [0, 1].\n",
        "We transform them to Tensors of normalized range [-1, 1].\n",
        "\n"
      ]
    },
    {
      "cell_type": "code",
      "execution_count": 51,
      "metadata": {
        "id": "AP6CQirB-wwt",
        "outputId": "e9107bc5-2904-4bab-c990-d4b0d827c807",
        "colab": {
          "base_uri": "https://localhost:8080/"
        }
      },
      "outputs": [
        {
          "output_type": "stream",
          "name": "stdout",
          "text": [
            "Using device: cuda:0\n"
          ]
        }
      ],
      "source": []
    },
    {
      "cell_type": "markdown",
      "metadata": {
        "id": "7aMS5gwJ-wwv"
      },
      "source": [
        "Let us show some of the training images, for fun.\n",
        "\n"
      ]
    },
    {
      "cell_type": "code",
      "execution_count": 3,
      "metadata": {
        "id": "VIocWuUU-www",
        "outputId": "a872e566-8d8c-4bd3-8264-b186cd33f535",
        "colab": {
          "base_uri": "https://localhost:8080/",
          "height": 211
        }
      },
      "outputs": [
        {
          "output_type": "stream",
          "name": "stdout",
          "text": [
            "  dog   cat  deer  bird\n"
          ]
        },
        {
          "output_type": "display_data",
          "data": {
            "text/plain": [
              "<Figure size 640x480 with 1 Axes>"
            ],
            "image/png": "[encoded data removed]"
          },
          "metadata": {}
        }
      ],
      "source": [
        "import matplotlib.pyplot as plt\n",
        "import numpy as np\n",
        "\n",
        "# functions to show an image\n",
        "\n",
        "\n",
        "def imshow(img):\n",
        "    img = img / 2 + 0.5     # unnormalize\n",
        "    npimg = img.numpy()\n",
        "    plt.imshow(np.transpose(npimg, (1, 2, 0)))\n",
        "\n",
        "\n",
        "# get some random training images\n",
        "dataiter = iter(trainloader)\n",
        "images, labels = next(dataiter)\n",
        "\n",
        "# show images\n",
        "imshow(torchvision.utils.make_grid(images))\n",
        "# print labels\n",
        "print(' '.join('%5s' % classes[labels[j]] for j in range(4)))\n",
        "\n",
        "\n",
        "\n",
        "\n"
      ]
    },
    {
      "cell_type": "markdown",
      "metadata": {
        "id": "cOC7v36--wwx"
      },
      "source": [
        "2. Define a Convolution Neural Network\n",
        "^^^^^^^^^^^^^^^^^^^^^^^^^^^^^^^^^^^^^^\n",
        "Copy the neural network from the Neural Networks section before and modify it to\n",
        "take 3-channel images (instead of 1-channel images as it was defined).\n",
        "\n"
      ]
    },
    {
      "cell_type": "code",
      "execution_count": 54,
      "metadata": {
        "colab": {
          "base_uri": "https://localhost:8080/"
        },
        "id": "QVreLJyB-wwx",
        "outputId": "86cd6ce0-1405-4702-d73a-a4a5ea1b4f77"
      },
      "outputs": [
        {
          "output_type": "execute_result",
          "data": {
            "text/plain": [
              "==========================================================================================\n",
              "Layer (type:depth-idx)                   Output Shape              Param #\n",
              "==========================================================================================\n",
              "Net                                      [1, 10]                   --\n",
              "├─Conv2d: 1-1                            [1, 16, 32, 32]           448\n",
              "├─BatchNorm2d: 1-2                       [1, 16, 32, 32]           32\n",
              "├─Conv2d: 1-3                            [1, 32, 16, 16]           4,640\n",
              "├─BatchNorm2d: 1-4                       [1, 32, 16, 16]           64\n",
              "├─Conv2d: 1-5                            [1, 16, 32, 32]           1,216\n",
              "├─BatchNorm2d: 1-6                       [1, 16, 32, 32]           32\n",
              "├─Conv2d: 1-7                            [1, 32, 16, 16]           4,640\n",
              "├─BatchNorm2d: 1-8                       [1, 32, 16, 16]           64\n",
              "├─Conv2d: 1-9                            [1, 128, 8, 8]            73,856\n",
              "├─BatchNorm2d: 1-10                      [1, 128, 8, 8]            256\n",
              "├─Conv2d: 1-11                           [1, 256, 4, 4]            819,456\n",
              "├─BatchNorm2d: 1-12                      [1, 256, 4, 4]            512\n",
              "├─Linear: 1-13                           [1, 256]                  1,048,832\n",
              "├─Dropout: 1-14                          [1, 256]                  --\n",
              "├─Linear: 1-15                           [1, 32]                   8,224\n",
              "├─Linear: 1-16                           [1, 10]                   330\n",
              "==========================================================================================\n",
              "Total params: 1,962,602\n",
              "Trainable params: 1,962,602\n",
              "Non-trainable params: 0\n",
              "Total mult-adds (Units.MEGABYTES): 22.98\n",
              "==========================================================================================\n",
              "Input size (MB): 0.01\n",
              "Forward/backward pass size (MB): 0.99\n",
              "Params size (MB): 7.85\n",
              "Estimated Total Size (MB): 8.85\n",
              "=========================================================================================="
            ]
          },
          "metadata": {},
          "execution_count": 54
        }
      ],
      "source": [
        "import torchinfo\n",
        "import torch\n",
        "import torch.nn as nn\n",
        "import torch.nn.functional as F\n",
        "from torchinfo import summary\n",
        "\n",
        "\n",
        "class Net(nn.Module):\n",
        "    def __init__(self):\n",
        "        super(Net, self).__init__()\n",
        "        self.conv1 = nn.Conv2d(3, 16, 3, stride =1, padding =1)\n",
        "        self.bn1 = nn.BatchNorm2d(16)\n",
        "        self.conv3 = nn.Conv2d(16, 32, 3, stride =2, padding =1)\n",
        "        self.bn3 = nn.BatchNorm2d(32)\n",
        "\n",
        "        self.conv2 = nn.Conv2d(3, 16, 5, padding = 2)\n",
        "        self.bn2 = nn.BatchNorm2d(16)\n",
        "        self.conv4 = nn.Conv2d(16, 32, 3, stride =2, padding =1)\n",
        "        self.bn4 = nn.BatchNorm2d(32)\n",
        "\n",
        "        self.conv_after_concat_3x3 = nn.Conv2d(64, 128, 3, stride=2, padding=1)\n",
        "        self.bn_concat1 = nn.BatchNorm2d(128)\n",
        "        self.conv_after_concat_5x5 = nn.Conv2d(128, 256, 5, stride=2, padding=2)\n",
        "        self.bn_concat2 = nn.BatchNorm2d(256)\n",
        "\n",
        "        self.fc1 = nn.Linear(in_features=256 * 4 * 4, out_features=256)\n",
        "        self.dropout = nn.Dropout(0.5)\n",
        "        self.fc2 = nn.Linear(in_features=256, out_features=32)\n",
        "        self.fc3 = nn.Linear(in_features=32, out_features=10)\n",
        "\n",
        "\n",
        "    def forward(self, x):\n",
        "        x1 = self.conv1(x)\n",
        "        x1 = self.bn1(x1)\n",
        "        x1 = F.relu(x1)\n",
        "        out_conv3 = self.conv3(x1)\n",
        "        out_conv3 = self.bn3(out_conv3)\n",
        "        out_conv3 = F.relu(out_conv3)\n",
        "\n",
        "        x2 = self.conv2(x)\n",
        "        x2 = self.bn2(x2)\n",
        "        x2 = F.relu(x2)\n",
        "        out_conv4 = self.conv4(x2)\n",
        "        out_conv4 = self.bn4(out_conv4)\n",
        "        out_conv4 = F.relu(out_conv4)\n",
        "\n",
        "        concatenated_output = torch.cat((out_conv3, out_conv4), dim=1)\n",
        "        x = self.conv_after_concat_3x3(concatenated_output)\n",
        "        x = self.bn_concat1(x)\n",
        "        x = F.relu(x)\n",
        "        x = self.conv_after_concat_5x5(x)\n",
        "        x = self.bn_concat2(x)\n",
        "        x = F.relu(x)\n",
        "\n",
        "        flattened_output = x.view(x.size(0), -1)\n",
        "        x = self.fc1(flattened_output)\n",
        "        x = F.relu(x)\n",
        "        x = self.dropout(x)\n",
        "        x = self.fc2(x)\n",
        "        x = F.relu(x)\n",
        "        output = self.fc3(x)\n",
        "        return output\n",
        "\n",
        "\n",
        "model = Net()\n",
        "model.to(device)\n",
        "summary(model, input_size=(1, 3, 32, 32))"
      ]
    },
    {
      "cell_type": "markdown",
      "metadata": {
        "id": "AweuWy8M-ww1"
      },
      "source": [
        "3. Define a Loss function and optimizer\n",
        "^^^^^^^^^^^^^^^^^^^^^^^^^^^^^^^^^^^^^^^\n",
        "Let's use a Classification Cross-Entropy loss and SGD with momentum.\n",
        "\n"
      ]
    },
    {
      "cell_type": "code",
      "execution_count": 56,
      "metadata": {
        "id": "P_DFTHbY-ww1",
        "outputId": "7e12abbc-07f6-4606-db0d-04f295a36a7c",
        "colab": {
          "base_uri": "https://localhost:8080/"
        }
      },
      "outputs": [
        {
          "output_type": "stream",
          "name": "stdout",
          "text": [
            "Using device: cuda:0\n"
          ]
        }
      ],
      "source": [
        "batch_size = 32\n",
        "\n",
        "# Load the CIFAR-10 training dataset\n",
        "trainset = torchvision.datasets.CIFAR10(root='./data', train=True,\n",
        "                                        download=True, transform=transform)\n",
        "trainloader = torch.utils.data.DataLoader(trainset, batch_size=batch_size,\n",
        "                                          shuffle=True, num_workers=2)\n",
        "\n",
        "# Load the CIFAR-10 test dataset\n",
        "testset = torchvision.datasets.CIFAR10(root='./data', train=False,\n",
        "                                       download=True, transform=transform)\n",
        "testloader = torch.utils.data.DataLoader(testset, batch_size=batch_size,\n",
        "                                         shuffle=False, num_workers=2)\n",
        "\n",
        "# Define the class names for CIFAR-10\n",
        "classes = ('plane', 'car', 'bird', 'cat',\n",
        "           'deer', 'dog', 'frog', 'horse', 'ship', 'truck')\n",
        "\n",
        "# --- Model, Loss Function, and Optimizer ---\n",
        "# Specify the device to use (GPU if available)\n",
        "device = torch.device(\"cuda:0\" if torch.cuda.is_available() else \"cpu\")\n",
        "print(f\"Using device: {device}\")\n",
        "\n",
        "# Instantiate the model and move it to the device\n",
        "# Using the NetWithConcatExtraConvsFC class defined above\n",
        "model = Net().to(device)\n",
        "\n",
        "# Define the loss function (Cross-Entropy Loss is common for classification)\n",
        "criterion = nn.CrossEntropyLoss()\n",
        "\n",
        "# Define the optimizer (Adam with learning rate 0.001 as in your code)\n",
        "optimizer = optim.Adam(model.parameters(), lr=0.001)"
      ]
    },
    {
      "cell_type": "markdown",
      "metadata": {
        "id": "5cWpHZQ4-ww2"
      },
      "source": [
        "4. Train the network\n",
        "^^^^^^^^^^^^^^^^^^^^\n",
        "\n",
        "This is when things start to get interesting.\n",
        "We simply have to loop over our data iterator, and feed the inputs to the\n",
        "network and optimize.\n",
        "\n"
      ]
    },
    {
      "cell_type": "code",
      "execution_count": 57,
      "metadata": {
        "id": "opfOdRqY-ww2",
        "outputId": "74197852-c10c-48b1-f0ec-70b8b338fe12",
        "colab": {
          "base_uri": "https://localhost:8080/"
        }
      },
      "outputs": [
        {
          "output_type": "stream",
          "name": "stdout",
          "text": [
            "Starting Training\n",
            "[1,   200] loss: 1.909\n",
            "[1,   400] loss: 1.630\n",
            "[1,   600] loss: 1.486\n",
            "[1,   800] loss: 1.424\n",
            "[1,  1000] loss: 1.344\n",
            "[1,  1200] loss: 1.334\n",
            "[1,  1400] loss: 1.288\n",
            "[2,   200] loss: 1.147\n",
            "[2,   400] loss: 1.129\n",
            "[2,   600] loss: 1.086\n",
            "[2,   800] loss: 1.106\n",
            "[2,  1000] loss: 1.059\n",
            "[2,  1200] loss: 1.041\n",
            "[2,  1400] loss: 1.030\n",
            "[3,   200] loss: 0.952\n",
            "[3,   400] loss: 0.890\n",
            "[3,   600] loss: 0.921\n",
            "[3,   800] loss: 0.899\n",
            "[3,  1000] loss: 0.876\n",
            "[3,  1200] loss: 0.857\n",
            "[3,  1400] loss: 0.880\n",
            "[4,   200] loss: 0.757\n",
            "[4,   400] loss: 0.763\n",
            "[4,   600] loss: 0.770\n",
            "[4,   800] loss: 0.742\n",
            "[4,  1000] loss: 0.761\n",
            "[4,  1200] loss: 0.763\n",
            "[4,  1400] loss: 0.739\n",
            "[5,   200] loss: 0.625\n",
            "[5,   400] loss: 0.621\n",
            "[5,   600] loss: 0.625\n",
            "[5,   800] loss: 0.637\n",
            "[5,  1000] loss: 0.638\n",
            "[5,  1200] loss: 0.636\n",
            "[5,  1400] loss: 0.649\n",
            "[6,   200] loss: 0.499\n",
            "[6,   400] loss: 0.503\n",
            "[6,   600] loss: 0.523\n",
            "[6,   800] loss: 0.542\n",
            "[6,  1000] loss: 0.537\n",
            "[6,  1200] loss: 0.534\n",
            "[6,  1400] loss: 0.544\n",
            "[7,   200] loss: 0.399\n",
            "[7,   400] loss: 0.414\n",
            "[7,   600] loss: 0.419\n",
            "[7,   800] loss: 0.432\n",
            "[7,  1000] loss: 0.439\n",
            "[7,  1200] loss: 0.448\n",
            "[7,  1400] loss: 0.436\n",
            "[8,   200] loss: 0.321\n",
            "[8,   400] loss: 0.335\n",
            "[8,   600] loss: 0.358\n",
            "[8,   800] loss: 0.354\n",
            "[8,  1000] loss: 0.357\n",
            "[8,  1200] loss: 0.365\n",
            "[8,  1400] loss: 0.361\n",
            "[9,   200] loss: 0.266\n",
            "[9,   400] loss: 0.283\n",
            "[9,   600] loss: 0.280\n",
            "[9,   800] loss: 0.293\n",
            "[9,  1000] loss: 0.324\n",
            "[9,  1200] loss: 0.297\n",
            "[9,  1400] loss: 0.304\n",
            "[10,   200] loss: 0.222\n",
            "[10,   400] loss: 0.221\n",
            "[10,   600] loss: 0.233\n",
            "[10,   800] loss: 0.234\n",
            "[10,  1000] loss: 0.242\n",
            "[10,  1200] loss: 0.240\n",
            "[10,  1400] loss: 0.264\n",
            "Finished Training\n"
          ]
        }
      ],
      "source": [
        "print(\"Starting Training\")\n",
        "num_epochs = 10 # You can adjust the number of training epochs\n",
        "\n",
        "for epoch in range(num_epochs):\n",
        "    running_loss = 0.0\n",
        "    model.train() # Set the model to training mode\n",
        "    for i, data in enumerate(trainloader, 0):\n",
        "        # Get the inputs; data is a list of [inputs, labels]\n",
        "        inputs, labels = data\n",
        "        inputs, labels = inputs.to(device), labels.to(device)\n",
        "\n",
        "        # Zero the parameter gradients\n",
        "        optimizer.zero_grad()\n",
        "\n",
        "        # Forward pass\n",
        "        outputs = model(inputs)\n",
        "        loss = criterion(outputs, labels)\n",
        "\n",
        "        # Backward pass and optimize\n",
        "        loss.backward()\n",
        "        optimizer.step()\n",
        "\n",
        "        # Print statistics\n",
        "        running_loss += loss.item()\n",
        "        if i % 200 == 199:  # Print every 200 mini-batches as in your code\n",
        "            print(f'[{epoch + 1}, {i + 1:5d}] loss: {running_loss / 200:.3f}')\n",
        "            running_loss = 0.0\n",
        "\n",
        "print('Finished Training')"
      ]
    },
    {
      "cell_type": "markdown",
      "metadata": {
        "id": "hREiECxy-ww3"
      },
      "source": [
        "5. Test the network on the test data\n",
        "^^^^^^^^^^^^^^^^^^^^^^^^^^^^^^^^^^^^\n",
        "\n",
        "We have trained the network for 2 passes over the training dataset.\n",
        "But we need to check if the network has learnt anything at all.\n",
        "\n",
        "We will check this by predicting the class label that the neural network\n",
        "outputs, and checking it against the ground-truth. If the prediction is\n",
        "correct, we add the sample to the list of correct predictions.\n",
        "\n",
        "Okay, first step. Let us display an image from the test set to get familiar.\n",
        "\n"
      ]
    },
    {
      "cell_type": "code",
      "execution_count": 28,
      "metadata": {
        "id": "AuglVcxp-ww4",
        "outputId": "29c10c65-fcd6-449b-ee70-ca91faec2d4d",
        "colab": {
          "base_uri": "https://localhost:8080/",
          "height": 211
        }
      },
      "outputs": [
        {
          "output_type": "stream",
          "name": "stdout",
          "text": [
            "GroundTruth:    cat  ship  ship plane\n"
          ]
        },
        {
          "output_type": "display_data",
          "data": {
            "text/plain": [
              "<Figure size 640x480 with 1 Axes>"
            ],
            "image/png": "[encoded data removed]"
          },
          "metadata": {}
        }
      ],
      "source": [
        "dataiter = iter(testloader)\n",
        "images, labels = next(dataiter)\n",
        "\n",
        "# print images\n",
        "imshow(torchvision.utils.make_grid(images))\n",
        "print('GroundTruth: ', ' '.join('%5s' % classes[labels[j]] for j in range(4)))"
      ]
    },
    {
      "cell_type": "markdown",
      "metadata": {
        "id": "OEOPJ0tB-ww4"
      },
      "source": [
        "Okay, now let us see what the neural network thinks these examples above are:\n",
        "\n"
      ]
    },
    {
      "cell_type": "code",
      "execution_count": 61,
      "metadata": {
        "id": "Z__iF9rl-ww5",
        "outputId": "3ca2dfb1-eece-4d61-c837-986f7a57a34e",
        "colab": {
          "base_uri": "https://localhost:8080/",
          "height": 228
        }
      },
      "outputs": [
        {
          "output_type": "stream",
          "name": "stdout",
          "text": [
            "GroundTruth:    ship | horse | truck |   cat\n",
            "Network thinks:  ship | horse | truck |   cat\n"
          ]
        },
        {
          "output_type": "display_data",
          "data": {
            "text/plain": [
              "<Figure size 640x480 with 1 Axes>"
            ],
            "image/png": "[encoded data removed]"
          },
          "metadata": {}
        }
      ],
      "source": [
        "import random\n",
        "\n",
        "# Sample 4 random indices from the test set\n",
        "indices = random.sample(range(len(testset)), 4)\n",
        "images = torch.stack([testset[i][0] for i in indices])\n",
        "labels = torch.tensor([testset[i][1] for i in indices])\n",
        "\n",
        "# Move images to device\n",
        "images = images.to(device)\n",
        "\n",
        "# Show images\n",
        "imshow(torchvision.utils.make_grid(images.cpu()))\n",
        "print(\"GroundTruth:  \", ' | '.join('%5s' % classes[labels[j]] for j in range(4)))\n",
        "\n",
        "# Predict\n",
        "model.eval()  # Set model to evaluation mode\n",
        "with torch.no_grad():\n",
        "    outputs = model(images)  # Forward pass\n",
        "    _, predicted = torch.max(outputs, 1)\n",
        "\n",
        "print(\"Network thinks:\", ' | '.join('%5s' % classes[predicted[j]] for j in range(4)))\n",
        "\n",
        "\n",
        "\n",
        "\n"
      ]
    },
    {
      "cell_type": "markdown",
      "metadata": {
        "id": "CcUI3IDP-ww6"
      },
      "source": [
        "The outputs are energies for the 10 classes.\n",
        "Higher the energy for a class, the more the network\n",
        "thinks that the image is of the particular class.\n",
        "So, let's get the index of the highest energy:\n",
        "\n"
      ]
    },
    {
      "cell_type": "code",
      "execution_count": null,
      "metadata": {
        "id": "itROMJox-ww7"
      },
      "outputs": [],
      "source": [
        "_, predicted = torch.max(outputs, 1)\n",
        "\n",
        "print('Predicted: ', ' '.join('%5s' % classes[predicted[j]]\n",
        "                              for j in range(4)))"
      ]
    },
    {
      "cell_type": "markdown",
      "metadata": {
        "id": "FhfNtvtu-ww7"
      },
      "source": [
        "The results seem pretty good.\n",
        "\n",
        "Let us look at how the network performs on the whole dataset.\n",
        "\n"
      ]
    },
    {
      "cell_type": "code",
      "execution_count": 17,
      "metadata": {
        "id": "S8JnJr8O-ww8",
        "outputId": "57de30e0-9455-4fe3-e469-30664d4ee719",
        "colab": {
          "base_uri": "https://localhost:8080/"
        }
      },
      "outputs": [
        {
          "output_type": "stream",
          "name": "stdout",
          "text": [
            "\n",
            "Starting Evaluation on Test Data\n",
            "Accuracy of the network on the 10000 test images: 71.82%\n",
            "\n",
            "Accuracy per class:\n",
            "Accuracy of plane : 65.20%\n",
            "Accuracy of car   : 81.70%\n",
            "Accuracy of bird  : 66.00%\n",
            "Accuracy of cat   : 52.60%\n",
            "Accuracy of deer  : 52.40%\n",
            "Accuracy of dog   : 59.10%\n",
            "Accuracy of frog  : 88.90%\n",
            "Accuracy of horse : 78.00%\n",
            "Accuracy of ship  : 94.30%\n",
            "Accuracy of truck : 80.00%\n"
          ]
        }
      ],
      "source": []
    },
    {
      "cell_type": "markdown",
      "metadata": {
        "id": "Vk4VVvuR-ww9"
      },
      "source": [
        "That looks waaay better than chance, which is 10% accuracy (randomly picking\n",
        "a class out of 10 classes).\n",
        "Seems like the network learnt something.\n",
        "\n",
        "Hmmm, what are the classes that performed well, and the classes that did\n",
        "not perform well:\n",
        "\n"
      ]
    },
    {
      "cell_type": "code",
      "execution_count": 58,
      "metadata": {
        "id": "O0X5j8uO-ww9",
        "outputId": "57cb05f1-3025-4c86-a11a-5ed5ec0fc386",
        "colab": {
          "base_uri": "https://localhost:8080/"
        }
      },
      "outputs": [
        {
          "output_type": "stream",
          "name": "stdout",
          "text": [
            "\n",
            "Starting Evaluation on Test Data\n",
            "Accuracy of the network on the 10000 test images: 75.35%\n",
            "\n",
            "Accuracy per class:\n",
            "Accuracy of plane : 79.00%\n",
            "Accuracy of car   : 87.50%\n",
            "Accuracy of bird  : 56.00%\n",
            "Accuracy of cat   : 62.40%\n",
            "Accuracy of deer  : 73.60%\n",
            "Accuracy of dog   : 70.10%\n",
            "Accuracy of frog  : 76.80%\n",
            "Accuracy of horse : 74.00%\n",
            "Accuracy of ship  : 88.20%\n",
            "Accuracy of truck : 85.90%\n"
          ]
        }
      ],
      "source": [
        "# --- Evaluate the network on the test data ---\n",
        "print(\"\\nStarting Evaluation on Test Data\")\n",
        "model.eval() # Set the model to evaluation mode\n",
        "correct = 0\n",
        "total = 0\n",
        "with torch.no_grad():\n",
        "    for data in testloader:\n",
        "        images, labels = data\n",
        "        images, labels = images.to(device), labels.to(device)\n",
        "        outputs = model(images)\n",
        "        _, predicted = torch.max(outputs.data, 1)\n",
        "        total += labels.size(0)\n",
        "        correct += (predicted == labels).sum().item()\n",
        "\n",
        "print(f'Accuracy of the network on the 10000 test images: {100 * correct / total:.2f}%')\n",
        "\n",
        "# Calculate and print accuracy per class\n",
        "print(\"\\nAccuracy per class:\")\n",
        "class_correct = list(0. for i in range(10))\n",
        "class_total = list(0. for i in range(10))\n",
        "with torch.no_grad():\n",
        "    for data in testloader:\n",
        "        images, labels = data\n",
        "        images, labels = images.to(device), labels.to(device)\n",
        "        outputs = model(images)\n",
        "        _, predicted = torch.max(outputs, 1)\n",
        "        # Compare predictions with ground truth for each item in the batch\n",
        "        c = (predicted == labels).squeeze()\n",
        "        # Iterate through each item in the batch\n",
        "        for i in range(labels.size(0)): # Use actual batch size here\n",
        "            label = labels[i]\n",
        "            class_correct[label] += c[i].item()\n",
        "            class_total[label] += 1\n",
        "\n",
        "for i in range(10):\n",
        "    # Avoid division by zero if a class has no samples in the test set (unlikely for CIFAR-10)\n",
        "    if class_total[i] > 0:\n",
        "        print(f'Accuracy of {classes[i]:5s} : {100 * class_correct[i] / class_total[i]:.2f}%')\n",
        "    else:\n",
        "        print(f'Accuracy of {classes[i]:5s} : N/A (no test samples)')"
      ]
    },
    {
      "cell_type": "markdown",
      "metadata": {
        "id": "JkKtFBEX-ww-"
      },
      "source": [
        "Okay, so what next?\n",
        "\n",
        "How do we run these neural networks on the GPU?\n",
        "\n",
        "Training on GPU\n",
        "----------------\n",
        "Just like how you transfer a Tensor on to the GPU, you transfer the neural\n",
        "net onto the GPU.\n",
        "\n",
        "Let's first define our device as the first visible cuda device if we have\n",
        "CUDA available:\n",
        "\n"
      ]
    },
    {
      "cell_type": "code",
      "execution_count": null,
      "metadata": {
        "id": "DWVNRc1d-ww-"
      },
      "outputs": [],
      "source": [
        "device = torch.device(\"cuda:0\" if torch.cuda.is_available() else \"cpu\")\n",
        "\n",
        "# Assume that we are on a CUDA machine, then this should print a CUDA device:\n",
        "\n",
        "print(device)"
      ]
    },
    {
      "cell_type": "markdown",
      "metadata": {
        "id": "J9Mg5xda-ww_"
      },
      "source": [
        "The rest of this section assumes that `device` is a CUDA device.\n",
        "\n",
        "Then these methods will recursively go over all modules and convert their\n",
        "parameters and buffers to CUDA tensors:\n",
        "\n",
        ".. code:: python\n",
        "\n",
        "    net.to(device)\n",
        "\n",
        "\n",
        "Remember that you will have to send the inputs and targets at every step\n",
        "to the GPU too:\n",
        "\n",
        ".. code:: python\n",
        "\n",
        "        inputs, labels = inputs.to(device), labels.to(device)\n",
        "\n",
        "Why dont I notice MASSIVE speedup compared to CPU? Because your network\n",
        "is realllly small.\n",
        "\n",
        "**Exercise:** Try increasing the width of your network (argument 2 of\n",
        "the first ``nn.Conv2d``, and argument 1 of the second ``nn.Conv2d`` –\n",
        "they need to be the same number), see what kind of speedup you get.\n",
        "\n",
        "**Goals achieved**:\n",
        "\n",
        "- Understanding PyTorch's Tensor library and neural networks at a high level.\n",
        "- Train a small neural network to classify images\n",
        "\n",
        "Training on multiple GPUs\n",
        "-------------------------\n",
        "If you want to see even more MASSIVE speedup using all of your GPUs,\n",
        "please check out :doc:`data_parallel_tutorial`.\n",
        "\n",
        "Where do I go next?\n",
        "-------------------\n",
        "\n",
        "-  :doc:`Train neural nets to play video games </intermediate/reinforcement_q_learning>`\n",
        "-  `Train a state-of-the-art ResNet network on imagenet`_\n",
        "-  `Train a face generator using Generative Adversarial Networks`_\n",
        "-  `Train a word-level language model using Recurrent LSTM networks`_\n",
        "-  `More examples`_\n",
        "-  `More tutorials`_\n",
        "-  `Discuss PyTorch on the Forums`_\n",
        "-  `Chat with other users on Slack`_\n",
        "\n",
        "\n"
      ]
    }
  ],
  "metadata": {
    "kernelspec": {
      "display_name": "Python 3",
      "name": "python3"
    },
    "language_info": {
      "codemirror_mode": {
        "name": "ipython",
        "version": 3
      },
      "file_extension": ".py",
      "mimetype": "text/x-python",
      "name": "python",
      "nbconvert_exporter": "python",
      "pygments_lexer": "ipython3",
      "version": "3.6.6"
    },
    "colab": {
      "provenance": [],
      "gpuType": "T4"
    },
    "accelerator": "GPU"
  },
  "nbformat": 4,
  "nbformat_minor": 0
}