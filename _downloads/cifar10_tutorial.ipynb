{
  "cells": [
    {
      "cell_type": "code",
      "execution_count": null,
      "metadata": {
        "id": "n3zamrfEU6FY"
      },
      "outputs": [],
      "source": [
        "%matplotlib inline"
      ]
    },
    {
      "cell_type": "markdown",
      "metadata": {
        "id": "7FWzNFcRU6Fa"
      },
      "source": [
        "\n",
        "Training a Classifier\n",
        "=====================\n",
        "\n",
        "This is it. You have seen how to define neural networks, compute loss and make\n",
        "updates to the weights of the network.\n",
        "\n",
        "Now you might be thinking,\n",
        "\n",
        "What about data?\n",
        "----------------\n",
        "\n",
        "Generally, when you have to deal with image, text, audio or video data,\n",
        "you can use standard python packages that load data into a numpy array.\n",
        "Then you can convert this array into a ``torch.*Tensor``.\n",
        "\n",
        "-  For images, packages such as Pillow, OpenCV are useful\n",
        "-  For audio, packages such as scipy and librosa\n",
        "-  For text, either raw Python or Cython based loading, or NLTK and\n",
        "   SpaCy are useful\n",
        "\n",
        "Specifically for vision, we have created a package called\n",
        "``torchvision``, that has data loaders for common datasets such as\n",
        "Imagenet, CIFAR10, MNIST, etc. and data transformers for images, viz.,\n",
        "``torchvision.datasets`` and ``torch.utils.data.DataLoader``.\n",
        "\n",
        "This provides a huge convenience and avoids writing boilerplate code.\n",
        "\n",
        "For this tutorial, we will use the CIFAR10 dataset.\n",
        "It has the classes: ‘airplane’, ‘automobile’, ‘bird’, ‘cat’, ‘deer’,\n",
        "‘dog’, ‘frog’, ‘horse’, ‘ship’, ‘truck’. The images in CIFAR-10 are of\n",
        "size 3x32x32, i.e. 3-channel color images of 32x32 pixels in size.\n",
        "\n",
        ".. figure:: /_static/img/cifar10.png\n",
        "   :alt: cifar10\n",
        "\n",
        "   cifar10\n",
        "\n",
        "\n",
        "Training an image classifier\n",
        "----------------------------\n",
        "\n",
        "We will do the following steps in order:\n",
        "\n",
        "1. Load and normalizing the CIFAR10 training and test datasets using\n",
        "   ``torchvision``\n",
        "2. Define a Convolution Neural Network\n",
        "3. Define a loss function\n",
        "4. Train the network on the training data\n",
        "5. Test the network on the test data\n",
        "\n",
        "1. Loading and normalizing CIFAR10\n",
        "^^^^^^^^^^^^^^^^^^^^^^^^^^^^^^^^^^\n",
        "\n",
        "Using ``torchvision``, it’s extremely easy to load CIFAR10.\n",
        "\n"
      ]
    },
    {
      "cell_type": "code",
      "execution_count": 51,
      "metadata": {
        "id": "To3b722xU6Fb"
      },
      "outputs": [],
      "source": [
        "import torch\n",
        "import torch.nn as nn\n",
        "import torch.nn.functional as F\n",
        "import torchvision\n",
        "import torchvision.transforms as transforms\n",
        "\n",
        "device = torch.device(\"cuda\" if torch.cuda.is_available() else \"cpu\")\n"
      ]
    },
    {
      "cell_type": "markdown",
      "metadata": {
        "id": "vJT9ZmpPU6Fb"
      },
      "source": [
        "The output of torchvision datasets are PILImage images of range [0, 1].\n",
        "We transform them to Tensors of normalized range [-1, 1].\n",
        "\n"
      ]
    },
    {
      "cell_type": "code",
      "execution_count": 52,
      "metadata": {
        "id": "oTHgjgwIU6Fb"
      },
      "outputs": [],
      "source": [
        "transform = transforms.Compose([\n",
        "    transforms.Resize((32, 32)),\n",
        "    transforms.ToTensor()\n",
        "])\n",
        "\n",
        "trainset = torchvision.datasets.CIFAR10(root='./data', train=True,\n",
        "                                        download=True, transform=transform)\n",
        "trainloader = torch.utils.data.DataLoader(trainset, batch_size=4,\n",
        "                                          shuffle=True, num_workers=2)\n"
      ]
    },
    {
      "cell_type": "markdown",
      "metadata": {
        "id": "5ApjfYLhU6Fc"
      },
      "source": [
        "Let us show some of the training images, for fun.\n",
        "\n"
      ]
    },
    {
      "cell_type": "code",
      "execution_count": 55,
      "metadata": {
        "id": "1IoxfMKXU6Fc",
        "outputId": "15a4bdce-ace9-41f2-fa1e-040772f4e559",
        "colab": {
          "base_uri": "https://localhost:8080/",
          "height": 211
        }
      },
      "outputs": [
        {
          "output_type": "stream",
          "name": "stdout",
          "text": [
            " deer   dog   dog  frog\n"
          ]
        },
        {
          "output_type": "display_data",
          "data": {
            "text/plain": [
              "<Figure size 640x480 with 1 Axes>"
            ],
            "image/png": "[encoded data removed]"
          },
          "metadata": {}
        }
      ],
      "source": [
        "import matplotlib.pyplot as plt\n",
        "import numpy as np\n",
        "\n",
        "# functions to show an image\n",
        "\n",
        "\n",
        "def imshow(img):\n",
        "    img = img / 2 + 0.5     # unnormalize\n",
        "    npimg = img.numpy()\n",
        "    plt.imshow(np.transpose(npimg, (1, 2, 0)))\n",
        "\n",
        "\n",
        "# get some random training images\n",
        "datailer = iter(trainloader)\n",
        "images, labels = next(datailer)\n",
        "\n",
        "# show images\n",
        "imshow(torchvision.utils.make_grid(images))\n",
        "# print labels\n",
        "print(' '.join('%5s' % classes[labels[j]] for j in range(4)))"
      ]
    },
    {
      "cell_type": "markdown",
      "metadata": {
        "id": "YE7uHwY4U6Fe"
      },
      "source": [
        "2. Define a Convolution Neural Network\n",
        "^^^^^^^^^^^^^^^^^^^^^^^^^^^^^^^^^^^^^^\n",
        "Copy the neural network from the Neural Networks section before and modify it to\n",
        "take 3-channel images (instead of 1-channel images as it was defined).\n",
        "\n"
      ]
    },
    {
      "cell_type": "code",
      "execution_count": 56,
      "metadata": {
        "id": "pG52B7HYU6Fe"
      },
      "outputs": [],
      "source": [
        "class Net(nn.Module):\n",
        "    def __init__(self):\n",
        "        super(Net, self).__init__()\n",
        "        self.conv1 = nn.Conv2d(3, 64, kernel_size=3, padding=1)  # Output: 64x32x32\n",
        "        self.pool = nn.MaxPool2d(2, 2)                           # Output: 64x16x16\n",
        "        self.conv2 = nn.Conv2d(64, 128, kernel_size=3, padding=1)  # 128x16x16\n",
        "        self.conv3 = nn.Conv2d(128, 256, kernel_size=3, padding=1)  # 256x16x16\n",
        "        self.pool2 = nn.MaxPool2d(2, 2)                          # 256x8x8\n",
        "\n",
        "        self.fc1 = nn.Linear(256 * 8 * 8, 1024)\n",
        "        self.fc2 = nn.Linear(1024, 10)\n",
        "\n",
        "    def forward(self, x):\n",
        "        x = F.relu(self.conv1(x))     # [B, 64, 32, 32]\n",
        "        x = self.pool(x)              # [B, 64, 16, 16]\n",
        "        x = F.relu(self.conv2(x))     # [B, 128, 16, 16]\n",
        "        x = F.relu(self.conv3(x))     # [B, 256, 16, 16]\n",
        "        x = self.pool2(x)             # [B, 256, 8, 8]\n",
        "        x = x.view(x.size(0), -1)     # Flatten\n",
        "        x = F.relu(self.fc1(x))       # [B, 1024]\n",
        "        x = self.fc2(x)               # [B, 10]\n",
        "        return x\n"
      ]
    },
    {
      "cell_type": "markdown",
      "metadata": {
        "id": "1N3ZVnx0U6Ff"
      },
      "source": [
        "3. Define a Loss function and optimizer\n",
        "^^^^^^^^^^^^^^^^^^^^^^^^^^^^^^^^^^^^^^^\n",
        "Let's use a Classification Cross-Entropy loss and SGD with momentum.\n",
        "\n"
      ]
    },
    {
      "cell_type": "code",
      "execution_count": 47,
      "metadata": {
        "id": "0RoH7pZwU6Fg"
      },
      "outputs": [],
      "source": [
        "import torch.optim as optim\n",
        "\n",
        "criterion = nn.CrossEntropyLoss()\n",
        "optimizer = optim.SGD(net.parameters(), lr=0.001, momentum=0.9)"
      ]
    },
    {
      "cell_type": "markdown",
      "metadata": {
        "id": "eCmXwmCnU6Fg"
      },
      "source": [
        "4. Train the network\n",
        "^^^^^^^^^^^^^^^^^^^^\n",
        "\n",
        "This is when things start to get interesting.\n",
        "We simply have to loop over our data iterator, and feed the inputs to the\n",
        "network and optimize.\n",
        "\n"
      ]
    },
    {
      "cell_type": "code",
      "execution_count": 57,
      "metadata": {
        "id": "nI8Mk8kBU6Fg",
        "outputId": "ff51e728-bfd3-4e39-d5e9-c8a53ae998d7",
        "colab": {
          "base_uri": "https://localhost:8080/"
        }
      },
      "outputs": [
        {
          "output_type": "stream",
          "name": "stdout",
          "text": [
            "[1,   200] loss: 2.3163\n",
            "[1,   400] loss: 2.2904\n",
            "[1,   600] loss: 2.0683\n",
            "[1,   800] loss: 1.9727\n",
            "[1,  1000] loss: 1.8863\n",
            "[1,  1200] loss: 1.8017\n",
            "[1,  1400] loss: 1.7187\n",
            "[1,  1600] loss: 1.7258\n",
            "[1,  1800] loss: 1.7184\n",
            "[1,  2000] loss: 1.6368\n",
            "[1,  2200] loss: 1.6555\n",
            "[1,  2400] loss: 1.5928\n",
            "[1,  2600] loss: 1.5893\n",
            "[1,  2800] loss: 1.5653\n",
            "[1,  3000] loss: 1.5652\n",
            "[1,  3200] loss: 1.4333\n",
            "[1,  3400] loss: 1.5662\n",
            "[1,  3600] loss: 1.4512\n",
            "[1,  3800] loss: 1.4721\n",
            "[1,  4000] loss: 1.4355\n",
            "[1,  4200] loss: 1.3905\n",
            "[1,  4400] loss: 1.4271\n",
            "[1,  4600] loss: 1.4016\n",
            "[1,  4800] loss: 1.4306\n",
            "[1,  5000] loss: 1.4202\n",
            "[1,  5200] loss: 1.3442\n",
            "[1,  5400] loss: 1.3799\n",
            "[1,  5600] loss: 1.3833\n",
            "[1,  5800] loss: 1.3348\n",
            "[1,  6000] loss: 1.3603\n",
            "[1,  6200] loss: 1.3121\n",
            "[1,  6400] loss: 1.3733\n",
            "[1,  6600] loss: 1.3109\n",
            "[1,  6800] loss: 1.2812\n",
            "[1,  7000] loss: 1.3137\n",
            "[1,  7200] loss: 1.3866\n",
            "[1,  7400] loss: 1.2752\n",
            "[1,  7600] loss: 1.3319\n",
            "[1,  7800] loss: 1.2250\n",
            "[1,  8000] loss: 1.2360\n",
            "[1,  8200] loss: 1.2606\n",
            "[1,  8400] loss: 1.2866\n",
            "[1,  8600] loss: 1.3076\n",
            "[1,  8800] loss: 1.2396\n",
            "[1,  9000] loss: 1.2898\n",
            "[1,  9200] loss: 1.2333\n",
            "[1,  9400] loss: 1.2114\n",
            "[1,  9600] loss: 1.2021\n",
            "[1,  9800] loss: 1.1971\n",
            "[1, 10000] loss: 1.1707\n",
            "[1, 10200] loss: 1.1990\n",
            "[1, 10400] loss: 1.1686\n",
            "[1, 10600] loss: 1.2076\n",
            "[1, 10800] loss: 1.1568\n",
            "[1, 11000] loss: 1.2015\n",
            "[1, 11200] loss: 1.1450\n",
            "[1, 11400] loss: 1.1572\n",
            "[1, 11600] loss: 1.1741\n",
            "[1, 11800] loss: 1.1869\n",
            "[1, 12000] loss: 1.1567\n",
            "[1, 12200] loss: 1.1668\n",
            "[1, 12400] loss: 1.1837\n",
            "[2,   200] loss: 1.0867\n",
            "[2,   400] loss: 1.0621\n",
            "[2,   600] loss: 1.0956\n",
            "[2,   800] loss: 1.1700\n",
            "[2,  1000] loss: 1.0397\n",
            "[2,  1200] loss: 1.0814\n",
            "[2,  1400] loss: 1.1058\n",
            "[2,  1600] loss: 1.0648\n",
            "[2,  1800] loss: 1.0984\n",
            "[2,  2000] loss: 1.0694\n",
            "[2,  2200] loss: 1.0092\n",
            "[2,  2400] loss: 1.1138\n",
            "[2,  2600] loss: 1.0792\n",
            "[2,  2800] loss: 1.0462\n",
            "[2,  3000] loss: 1.0402\n",
            "[2,  3200] loss: 1.0695\n",
            "[2,  3400] loss: 1.0034\n",
            "[2,  3600] loss: 1.0893\n",
            "[2,  3800] loss: 1.1046\n",
            "[2,  4000] loss: 1.0436\n",
            "[2,  4200] loss: 1.0842\n",
            "[2,  4400] loss: 1.0514\n",
            "[2,  4600] loss: 0.9821\n",
            "[2,  4800] loss: 1.0346\n",
            "[2,  5000] loss: 1.0380\n",
            "[2,  5200] loss: 1.0410\n",
            "[2,  5400] loss: 1.0598\n",
            "[2,  5600] loss: 1.0623\n",
            "[2,  5800] loss: 1.0189\n",
            "[2,  6000] loss: 1.0116\n",
            "[2,  6200] loss: 1.0476\n",
            "[2,  6400] loss: 1.0197\n",
            "[2,  6600] loss: 0.9654\n",
            "[2,  6800] loss: 0.9908\n",
            "[2,  7000] loss: 0.9893\n",
            "[2,  7200] loss: 0.9819\n",
            "[2,  7400] loss: 1.0272\n",
            "[2,  7600] loss: 1.0360\n",
            "[2,  7800] loss: 0.9201\n",
            "[2,  8000] loss: 1.0118\n",
            "[2,  8200] loss: 1.0129\n",
            "[2,  8400] loss: 1.0014\n",
            "[2,  8600] loss: 0.9916\n",
            "[2,  8800] loss: 1.0375\n",
            "[2,  9000] loss: 0.9849\n",
            "[2,  9200] loss: 1.0209\n",
            "[2,  9400] loss: 1.0007\n",
            "[2,  9600] loss: 1.0459\n",
            "[2,  9800] loss: 1.0369\n",
            "[2, 10000] loss: 0.9686\n",
            "[2, 10200] loss: 1.0460\n",
            "[2, 10400] loss: 0.9542\n",
            "[2, 10600] loss: 0.9379\n",
            "[2, 10800] loss: 0.9876\n",
            "[2, 11000] loss: 1.0276\n",
            "[2, 11200] loss: 0.9933\n",
            "[2, 11400] loss: 1.0040\n",
            "[2, 11600] loss: 0.9255\n",
            "[2, 11800] loss: 0.9839\n",
            "[2, 12000] loss: 0.9841\n",
            "[2, 12200] loss: 0.9936\n",
            "[2, 12400] loss: 1.0604\n",
            "Finished Training\n"
          ]
        }
      ],
      "source": [
        "net = Net().to(device)\n",
        "\n",
        "criterion = nn.CrossEntropyLoss()\n",
        "optimizer = torch.optim.Adam(net.parameters(), lr=0.001)\n",
        "\n",
        "for epoch in range(2):  # loop over the dataset multiple times\n",
        "    running_loss = 0.0\n",
        "\n",
        "    for i, data in enumerate(trainloader, 0):\n",
        "        inputs, labels = data\n",
        "        inputs, labels = inputs.to(device), labels.to(device)\n",
        "\n",
        "        optimizer.zero_grad()\n",
        "        outputs = net(inputs)\n",
        "        loss = criterion(outputs, labels)\n",
        "        loss.backward()\n",
        "        optimizer.step()\n",
        "\n",
        "        running_loss += loss.item()\n",
        "        if i % 200 == 199:  # Print more often for debugging\n",
        "            print(f\"[{epoch+1}, {i+1:5d}] loss: {running_loss / 200:.4f}\")\n",
        "            running_loss = 0.0\n",
        "\n",
        "print('Finished Training')\n"
      ]
    },
    {
      "cell_type": "markdown",
      "metadata": {
        "id": "Bi215-Q0U6Fh"
      },
      "source": [
        "5. Test the network on the test data\n",
        "^^^^^^^^^^^^^^^^^^^^^^^^^^^^^^^^^^^^\n",
        "\n",
        "We have trained the network for 2 passes over the training dataset.\n",
        "But we need to check if the network has learnt anything at all.\n",
        "\n",
        "We will check this by predicting the class label that the neural network\n",
        "outputs, and checking it against the ground-truth. If the prediction is\n",
        "correct, we add the sample to the list of correct predictions.\n",
        "\n",
        "Okay, first step. Let us display an image from the test set to get familiar.\n",
        "\n"
      ]
    },
    {
      "cell_type": "code",
      "execution_count": 65,
      "metadata": {
        "id": "fNkrPTxuU6Fh",
        "outputId": "a124a1a2-fc7f-45ea-cdb3-9c13afe8ec84",
        "colab": {
          "base_uri": "https://localhost:8080/",
          "height": 211
        }
      },
      "outputs": [
        {
          "output_type": "stream",
          "name": "stdout",
          "text": [
            "GroundTruth:  deer   car  ship  deer\n"
          ]
        },
        {
          "output_type": "display_data",
          "data": {
            "text/plain": [
              "<Figure size 640x480 with 1 Axes>"
            ],
            "image/png": "[encoded data removed]"
          },
          "metadata": {}
        }
      ],
      "source": [
        "import random\n",
        "\n",
        "indices = random.sample(range(len(testset)), 4)\n",
        "images = torch.stack([testset[i][0] for i in indices])\n",
        "labels = torch.tensor([testset[i][1] for i in indices])\n",
        "\n",
        "imshow(torchvision.utils.make_grid(images))\n",
        "print('GroundTruth:', ' '.join('%5s' % classes[labels[j]] for j in range(4)))\n"
      ]
    },
    {
      "cell_type": "markdown",
      "metadata": {
        "id": "7X9UQPN2U6Fh"
      },
      "source": [
        "\\Okay, now let us see what the neural network thinks these examples above are:\n",
        "\n"
      ]
    },
    {
      "cell_type": "code",
      "execution_count": 81,
      "metadata": {
        "id": "GBBnchCAU6Fh",
        "outputId": "7789c9b8-de57-441e-b585-0a5709dfb19e",
        "colab": {
          "base_uri": "https://localhost:8080/",
          "height": 228
        }
      },
      "outputs": [
        {
          "output_type": "stream",
          "name": "stdout",
          "text": [
            "GroundTruth:    bird |   dog |  bird |   cat\n",
            "Network thinks:   car |   car |   dog |   car\n"
          ]
        },
        {
          "output_type": "display_data",
          "data": {
            "text/plain": [
              "<Figure size 640x480 with 1 Axes>"
            ],
            "image/png": "[encoded data removed]"
          },
          "metadata": {}
        }
      ],
      "source": [
        "import random\n",
        "\n",
        "# Sample 4 random indices from the test set\n",
        "indices = random.sample(range(len(testset)), 4)\n",
        "images = torch.stack([testset[i][0] for i in indices])\n",
        "labels = torch.tensor([testset[i][1] for i in indices])\n",
        "\n",
        "# Move images to device\n",
        "images = images.to(device)\n",
        "\n",
        "# Show images\n",
        "imshow(torchvision.utils.make_grid(images.cpu()))\n",
        "print(\"GroundTruth:  \", ' | '.join('%5s' % classes[labels[j]] for j in range(4)))\n",
        "\n",
        "# Predict\n",
        "net.eval()  # Set model to evaluation mode\n",
        "with torch.no_grad():\n",
        "    outputs = net(images)  # Forward pass\n",
        "    _, predicted = torch.max(outputs, 1)\n",
        "\n",
        "print(\"Network thinks:\", ' | '.join('%5s' % classes[predicted[j]] for j in range(4)))\n"
      ]
    },
    {
      "cell_type": "markdown",
      "metadata": {
        "id": "lDT7GZD1U6Fh"
      },
      "source": [
        "The outputs are energies for the 10 classes.\n",
        "Higher the energy for a class, the more the network\n",
        "thinks that the image is of the particular class.\n",
        "So, let's get the index of the highest energy:\n",
        "\n"
      ]
    },
    {
      "cell_type": "code",
      "execution_count": 77,
      "metadata": {
        "id": "O_uOEQ1mU6Fh",
        "outputId": "c3caddea-6ee6-4464-a42a-405486321153",
        "colab": {
          "base_uri": "https://localhost:8080/"
        }
      },
      "outputs": [
        {
          "output_type": "stream",
          "name": "stdout",
          "text": [
            "Predicted:  truck  ship plane  bird\n"
          ]
        }
      ],
      "source": [
        "_, predicted = torch.max(outputs, 1)\n",
        "\n",
        "print('Predicted: ', ' '.join('%5s' % classes[predicted[j]]\n",
        "                              for j in range(4)))"
      ]
    },
    {
      "cell_type": "markdown",
      "metadata": {
        "id": "O-E4Rbd2U6Fh"
      },
      "source": [
        "The results seem pretty good.\n",
        "\n",
        "Let us look at how the network performs on the whole dataset.\n",
        "\n"
      ]
    },
    {
      "cell_type": "code",
      "execution_count": 80,
      "metadata": {
        "id": "P0lOFVTHU6Fi",
        "outputId": "0b9c9398-5131-4aa7-b1ca-30f955e7de71",
        "colab": {
          "base_uri": "https://localhost:8080/"
        }
      },
      "outputs": [
        {
          "output_type": "stream",
          "name": "stdout",
          "text": [
            "Accuracy of the network on the 10000 test images: 0 %\n"
          ]
        }
      ],
      "source": [
        "correct = 0\n",
        "total = 0\n",
        "with torch.no_grad():\n",
        "    for data in testloader:\n",
        "        images, labels = images.to(device), labels.to(device)\n",
        "        outputs = net(images)\n",
        "        _, predicted = torch.max(outputs.data, 1)\n",
        "        total += labels.size(0)\n",
        "        correct += (predicted == labels).sum().item()\n",
        "\n",
        "print('Accuracy of the network on the 10000 test images: %d %%' % (\n",
        "    100 * correct / total))"
      ]
    },
    {
      "cell_type": "markdown",
      "metadata": {
        "id": "QYoQp9tUU6Fi"
      },
      "source": [
        "That looks waaay better than chance, which is 10% accuracy (randomly picking\n",
        "a class out of 10 classes).\n",
        "Seems like the network learnt something.\n",
        "\n",
        "Hmmm, what are the classes that performed well, and the classes that did\n",
        "not perform well:\n",
        "\n"
      ]
    },
    {
      "cell_type": "code",
      "execution_count": null,
      "metadata": {
        "id": "c6CTHus9U6Fi"
      },
      "outputs": [],
      "source": [
        "class_correct = list(0. for i in range(10))\n",
        "class_total = list(0. for i in range(10))\n",
        "with torch.no_grad():\n",
        "    for data in testloader:\n",
        "        images, labels = data\n",
        "        outputs = net(images)\n",
        "        _, predicted = torch.max(outputs, 1)\n",
        "        c = (predicted == labels).squeeze()\n",
        "        for i in range(4):\n",
        "            label = labels[i]\n",
        "            class_correct[label] += c[i].item()\n",
        "            class_total[label] += 1\n",
        "\n",
        "\n",
        "for i in range(10):\n",
        "    print('Accuracy of %5s : %2d %%' % (\n",
        "        classes[i], 100 * class_correct[i] / class_total[i]))"
      ]
    },
    {
      "cell_type": "markdown",
      "metadata": {
        "id": "9c9X1NgUU6Fi"
      },
      "source": [
        "Okay, so what next?\n",
        "\n",
        "How do we run these neural networks on the GPU?\n",
        "\n",
        "Training on GPU\n",
        "----------------\n",
        "Just like how you transfer a Tensor on to the GPU, you transfer the neural\n",
        "net onto the GPU.\n",
        "\n",
        "Let's first define our device as the first visible cuda device if we have\n",
        "CUDA available:\n",
        "\n"
      ]
    },
    {
      "cell_type": "code",
      "execution_count": null,
      "metadata": {
        "id": "C3O_WPiTU6Fi"
      },
      "outputs": [],
      "source": [
        "device = torch.device(\"cuda:0\" if torch.cuda.is_available() else \"cpu\")\n",
        "\n",
        "# Assume that we are on a CUDA machine, then this should print a CUDA device:\n",
        "\n",
        "print(device)"
      ]
    },
    {
      "cell_type": "markdown",
      "metadata": {
        "id": "KRNCxghKU6Fj"
      },
      "source": [
        "The rest of this section assumes that `device` is a CUDA device.\n",
        "\n",
        "Then these methods will recursively go over all modules and convert their\n",
        "parameters and buffers to CUDA tensors:\n",
        "\n",
        ".. code:: python\n",
        "\n",
        "    net.to(device)\n",
        "\n",
        "\n",
        "Remember that you will have to send the inputs and targets at every step\n",
        "to the GPU too:\n",
        "\n",
        ".. code:: python\n",
        "\n",
        "        inputs, labels = inputs.to(device), labels.to(device)\n",
        "\n",
        "Why dont I notice MASSIVE speedup compared to CPU? Because your network\n",
        "is realllly small.\n",
        "\n",
        "**Exercise:** Try increasing the width of your network (argument 2 of\n",
        "the first ``nn.Conv2d``, and argument 1 of the second ``nn.Conv2d`` –\n",
        "they need to be the same number), see what kind of speedup you get.\n",
        "\n",
        "**Goals achieved**:\n",
        "\n",
        "- Understanding PyTorch's Tensor library and neural networks at a high level.\n",
        "- Train a small neural network to classify images\n",
        "\n",
        "Training on multiple GPUs\n",
        "-------------------------\n",
        "If you want to see even more MASSIVE speedup using all of your GPUs,\n",
        "please check out :doc:`data_parallel_tutorial`.\n",
        "\n",
        "Where do I go next?\n",
        "-------------------\n",
        "\n",
        "-  :doc:`Train neural nets to play video games </intermediate/reinforcement_q_learning>`\n",
        "-  `Train a state-of-the-art ResNet network on imagenet`_\n",
        "-  `Train a face generator using Generative Adversarial Networks`_\n",
        "-  `Train a word-level language model using Recurrent LSTM networks`_\n",
        "-  `More examples`_\n",
        "-  `More tutorials`_\n",
        "-  `Discuss PyTorch on the Forums`_\n",
        "-  `Chat with other users on Slack`_\n",
        "\n",
        "\n"
      ]
    }
  ],
  "metadata": {
    "kernelspec": {
      "display_name": "Python 3",
      "name": "python3"
    },
    "language_info": {
      "codemirror_mode": {
        "name": "ipython",
        "version": 3
      },
      "file_extension": ".py",
      "mimetype": "text/x-python",
      "name": "python",
      "nbconvert_exporter": "python",
      "pygments_lexer": "ipython3",
      "version": "3.6.6"
    },
    "colab": {
      "provenance": [],
      "gpuType": "T4"
    },
    "accelerator": "GPU"
  },
  "nbformat": 4,
  "nbformat_minor": 0
}