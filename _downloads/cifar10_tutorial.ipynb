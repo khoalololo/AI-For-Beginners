{
  "cells": [
    {
      "cell_type": "code",
      "execution_count": null,
      "metadata": {
        "id": "n3zamrfEU6FY"
      },
      "outputs": [],
      "source": [
        "%matplotlib inline"
      ]
    },
    {
      "cell_type": "markdown",
      "metadata": {
        "id": "7FWzNFcRU6Fa"
      },
      "source": [
        "\n",
        "Training a Classifier\n",
        "=====================\n",
        "\n",
        "This is it. You have seen how to define neural networks, compute loss and make\n",
        "updates to the weights of the network.\n",
        "\n",
        "Now you might be thinking,\n",
        "\n",
        "What about data?\n",
        "----------------\n",
        "\n",
        "Generally, when you have to deal with image, text, audio or video data,\n",
        "you can use standard python packages that load data into a numpy array.\n",
        "Then you can convert this array into a ``torch.*Tensor``.\n",
        "\n",
        "-  For images, packages such as Pillow, OpenCV are useful\n",
        "-  For audio, packages such as scipy and librosa\n",
        "-  For text, either raw Python or Cython based loading, or NLTK and\n",
        "   SpaCy are useful\n",
        "\n",
        "Specifically for vision, we have created a package called\n",
        "``torchvision``, that has data loaders for common datasets such as\n",
        "Imagenet, CIFAR10, MNIST, etc. and data transformers for images, viz.,\n",
        "``torchvision.datasets`` and ``torch.utils.data.DataLoader``.\n",
        "\n",
        "This provides a huge convenience and avoids writing boilerplate code.\n",
        "\n",
        "For this tutorial, we will use the CIFAR10 dataset.\n",
        "It has the classes: ‘airplane’, ‘automobile’, ‘bird’, ‘cat’, ‘deer’,\n",
        "‘dog’, ‘frog’, ‘horse’, ‘ship’, ‘truck’. The images in CIFAR-10 are of\n",
        "size 3x32x32, i.e. 3-channel color images of 32x32 pixels in size.\n",
        "\n",
        ".. figure:: /_static/img/cifar10.png\n",
        "   :alt: cifar10\n",
        "\n",
        "   cifar10\n",
        "\n",
        "\n",
        "Training an image classifier\n",
        "----------------------------\n",
        "\n",
        "We will do the following steps in order:\n",
        "\n",
        "1. Load and normalizing the CIFAR10 training and test datasets using\n",
        "   ``torchvision``\n",
        "2. Define a Convolution Neural Network\n",
        "3. Define a loss function\n",
        "4. Train the network on the training data\n",
        "5. Test the network on the test data\n",
        "\n",
        "1. Loading and normalizing CIFAR10\n",
        "^^^^^^^^^^^^^^^^^^^^^^^^^^^^^^^^^^\n",
        "\n",
        "Using ``torchvision``, it’s extremely easy to load CIFAR10.\n",
        "\n"
      ]
    },
    {
      "cell_type": "code",
      "execution_count": 83,
      "metadata": {
        "id": "To3b722xU6Fb"
      },
      "outputs": [],
      "source": [
        "import torch\n",
        "import torch.nn as nn\n",
        "import torch.nn.functional as F\n",
        "import torchvision\n",
        "import torchvision.transforms as transforms\n",
        "\n",
        "device = torch.device(\"cuda\" if torch.cuda.is_available() else \"cpu\")\n"
      ]
    },
    {
      "cell_type": "markdown",
      "metadata": {
        "id": "vJT9ZmpPU6Fb"
      },
      "source": [
        "The output of torchvision datasets are PILImage images of range [0, 1].\n",
        "We transform them to Tensors of normalized range [-1, 1].\n",
        "\n"
      ]
    },
    {
      "cell_type": "code",
      "execution_count": 84,
      "metadata": {
        "id": "oTHgjgwIU6Fb"
      },
      "outputs": [],
      "source": [
        "transform = transforms.Compose([\n",
        "    transforms.Resize((32, 32)),\n",
        "    transforms.ToTensor()\n",
        "])\n",
        "\n",
        "trainset = torchvision.datasets.CIFAR10(root='./data', train=True,\n",
        "                                        download=True, transform=transform)\n",
        "trainloader = torch.utils.data.DataLoader(trainset, batch_size=4,\n",
        "                                          shuffle=True, num_workers=2)\n"
      ]
    },
    {
      "cell_type": "markdown",
      "metadata": {
        "id": "5ApjfYLhU6Fc"
      },
      "source": [
        "Let us show some of the training images, for fun.\n",
        "\n"
      ]
    },
    {
      "cell_type": "code",
      "execution_count": 87,
      "metadata": {
        "colab": {
          "base_uri": "https://localhost:8080/",
          "height": 211
        },
        "id": "1IoxfMKXU6Fc",
        "outputId": "f9da1035-6636-4416-80af-1891051d20d2"
      },
      "outputs": [
        {
          "output_type": "stream",
          "name": "stdout",
          "text": [
            " ship  ship   dog truck\n"
          ]
        },
        {
          "output_type": "display_data",
          "data": {
            "text/plain": [
              "<Figure size 640x480 with 1 Axes>"
            ],
            "image/png": "[encoded data removed]"
          },
          "metadata": {}
        }
      ],
      "source": [
        "import matplotlib.pyplot as plt\n",
        "import numpy as np\n",
        "\n",
        "# functions to show an image\n",
        "\n",
        "\n",
        "def imshow(img):\n",
        "    img = img / 2 + 0.5     # unnormalize\n",
        "    npimg = img.numpy()\n",
        "    plt.imshow(np.transpose(npimg, (1, 2, 0)))\n",
        "\n",
        "\n",
        "# get some random training images\n",
        "datailer = iter(trainloader)\n",
        "images, labels = next(datailer)\n",
        "\n",
        "# show images\n",
        "imshow(torchvision.utils.make_grid(images))\n",
        "# print labels\n",
        "print(' '.join('%5s' % classes[labels[j]] for j in range(4)))"
      ]
    },
    {
      "cell_type": "markdown",
      "metadata": {
        "id": "YE7uHwY4U6Fe"
      },
      "source": [
        "2. Define a Convolution Neural Network\n",
        "^^^^^^^^^^^^^^^^^^^^^^^^^^^^^^^^^^^^^^\n",
        "Copy the neural network from the Neural Networks section before and modify it to\n",
        "take 3-channel images (instead of 1-channel images as it was defined).\n",
        "\n"
      ]
    },
    {
      "cell_type": "code",
      "execution_count": 100,
      "metadata": {
        "colab": {
          "base_uri": "https://localhost:8080/"
        },
        "id": "pG52B7HYU6Fe",
        "outputId": "f6fc58a1-12f8-46eb-ead6-6fc5df933b26"
      },
      "outputs": [
        {
          "output_type": "stream",
          "name": "stdout",
          "text": [
            "<generator object Module.parameters at 0x7aa9c04db4c0>\n"
          ]
        }
      ],
      "source": [
        "class Net(nn.Module):\n",
        "    def __init__(self):\n",
        "        super(Net, self).__init__()\n",
        "        self.conv1 = nn.Conv2d(3, 64, kernel_size=3, padding=1)  # Output: 64x32x32\n",
        "        self.pool = nn.MaxPool2d(2, 2)                           # Output: 64x16x16\n",
        "        self.conv2 = nn.Conv2d(64, 128, kernel_size=3, padding=1)  # 128x16x16\n",
        "        self.conv3 = nn.Conv2d(128, 256, kernel_size=3, padding=1)  # 256x16x16\n",
        "        self.pool2 = nn.MaxPool2d(2, 2)                          # 256x8x8\n",
        "\n",
        "        self.fc1 = nn.Linear(256 * 8 * 8, 1024)\n",
        "        self.fc2 = nn.Linear(1024, 10)\n",
        "\n",
        "    def forward(self, x):\n",
        "        x = F.relu(self.conv1(x))     # [B, 64, 32, 32]\n",
        "        x = self.pool(x)              # [B, 64, 16, 16]\n",
        "        x = F.relu(self.conv2(x))     # [B, 128, 16, 16]\n",
        "        x = F.relu(self.conv3(x))     # [B, 256, 16, 16]\n",
        "        x = self.pool2(x)             # [B, 256, 8, 8]\n",
        "        x = x.view(x.size(0), -1)     # Flatten\n",
        "        x = F.relu(self.fc1(x))       # [B, 1024]\n",
        "        x = self.fc2(x)               # [B, 10]\n",
        "        return x\n"
      ]
    },
    {
      "cell_type": "markdown",
      "metadata": {
        "id": "1N3ZVnx0U6Ff"
      },
      "source": [
        "3. Define a Loss function and optimizer\n",
        "^^^^^^^^^^^^^^^^^^^^^^^^^^^^^^^^^^^^^^^\n",
        "Let's use a Classification Cross-Entropy loss and SGD with momentum.\n",
        "\n"
      ]
    },
    {
      "cell_type": "code",
      "execution_count": 89,
      "metadata": {
        "id": "0RoH7pZwU6Fg"
      },
      "outputs": [],
      "source": [
        "import torch.optim as optim\n",
        "\n",
        "criterion = nn.CrossEntropyLoss()\n",
        "optimizer = optim.SGD(net.parameters(), lr=0.001, momentum=0.9)"
      ]
    },
    {
      "cell_type": "markdown",
      "metadata": {
        "id": "eCmXwmCnU6Fg"
      },
      "source": [
        "4. Train the network\n",
        "^^^^^^^^^^^^^^^^^^^^\n",
        "\n",
        "This is when things start to get interesting.\n",
        "We simply have to loop over our data iterator, and feed the inputs to the\n",
        "network and optimize.\n",
        "\n"
      ]
    },
    {
      "cell_type": "code",
      "execution_count": 91,
      "metadata": {
        "colab": {
          "base_uri": "https://localhost:8080/"
        },
        "id": "nI8Mk8kBU6Fg",
        "outputId": "ce411d25-f9fb-413c-9c47-56db9556a035"
      },
      "outputs": [
        {
          "output_type": "stream",
          "name": "stdout",
          "text": [
            "Starting Training\n",
            "[1,   200] loss: 1.688\n",
            "[1,   400] loss: 1.323\n",
            "[1,   600] loss: 1.164\n",
            "[2,   200] loss: 0.902\n",
            "[2,   400] loss: 0.865\n",
            "[2,   600] loss: 0.825\n",
            "[3,   200] loss: 0.620\n",
            "[3,   400] loss: 0.597\n",
            "[3,   600] loss: 0.591\n",
            "[4,   200] loss: 0.334\n",
            "[4,   400] loss: 0.358\n",
            "[4,   600] loss: 0.378\n",
            "[5,   200] loss: 0.159\n",
            "[5,   400] loss: 0.185\n",
            "[5,   600] loss: 0.207\n",
            "[6,   200] loss: 0.069\n",
            "[6,   400] loss: 0.104\n",
            "[6,   600] loss: 0.126\n",
            "[7,   200] loss: 0.063\n",
            "[7,   400] loss: 0.075\n",
            "[7,   600] loss: 0.093\n",
            "[8,   200] loss: 0.044\n",
            "[8,   400] loss: 0.056\n",
            "[8,   600] loss: 0.064\n",
            "[9,   200] loss: 0.047\n",
            "[9,   400] loss: 0.047\n",
            "[9,   600] loss: 0.077\n",
            "[10,   200] loss: 0.032\n",
            "[10,   400] loss: 0.047\n",
            "[10,   600] loss: 0.075\n",
            "Finished Training\n",
            "Starting Evaluation on Test Data\n",
            "Accuracy of the network on the 10000 test images: 74.32%\n",
            "Accuracy of plane : 82.14%\n",
            "Accuracy of car   : 90.00%\n",
            "Accuracy of bird  : 74.68%\n",
            "Accuracy of cat   : 53.42%\n",
            "Accuracy of deer  : 61.82%\n",
            "Accuracy of dog   : 55.93%\n",
            "Accuracy of frog  : 85.71%\n",
            "Accuracy of horse : 79.69%\n",
            "Accuracy of ship  : 79.31%\n",
            "Accuracy of truck : 80.77%\n"
          ]
        }
      ],
      "source": [
        "import torch\n",
        "import torch.nn as nn\n",
        "import torch.nn.functional as F\n",
        "import torch.optim as optim\n",
        "import torchvision\n",
        "import torchvision.transforms as transforms\n",
        "import torch.utils.data as data\n",
        "\n",
        "# Define the network architecture (as discussed and potentially corrected)\n",
        "class Net(nn.Module):\n",
        "    def __init__(self):\n",
        "        super(Net, self).__init__()\n",
        "        self.conv1 = nn.Conv2d(3, 64, kernel_size=3, padding=1)\n",
        "        self.pool = nn.MaxPool2d(2, 2)\n",
        "        self.conv2 = nn.Conv2d(64, 128, kernel_size=3, padding=1)\n",
        "        self.conv3 = nn.Conv2d(128, 256, kernel_size=3, padding=1)\n",
        "        self.pool2 = nn.MaxPool2d(2, 2)\n",
        "        self.fc1 = nn.Linear(256 * 8 * 8, 1024)\n",
        "        self.fc2 = nn.Linear(1024, 10)\n",
        "\n",
        "    def forward(self, x):\n",
        "        x = F.relu(self.conv1(x))\n",
        "        x = self.pool(x)\n",
        "        x = F.relu(self.conv2(x))\n",
        "        x = F.relu(self.conv3(x))\n",
        "        x = self.pool2(x)\n",
        "        x = x.view(x.size(0), -1)\n",
        "        x = F.relu(self.fc1(x))\n",
        "        x = self.fc2(x)\n",
        "        return x # No Softmax here if using nn.CrossEntropyLoss\n",
        "\n",
        "# Define data loading and preprocessing with normalization\n",
        "transform = transforms.Compose(\n",
        "    [transforms.ToTensor(),\n",
        "     transforms.Normalize((0.5, 0.5, 0.5), (0.5, 0.5, 0.5))])\n",
        "\n",
        "batch_size = 64 # Increased batch size\n",
        "\n",
        "trainset = torchvision.datasets.CIFAR10(root='./data', train=True,\n",
        "                                        download=True, transform=transform)\n",
        "trainloader = torch.utils.data.DataLoader(trainset, batch_size=batch_size,\n",
        "                                          shuffle=True, num_workers=2)\n",
        "\n",
        "testset = torchvision.datasets.CIFAR10(root='./data', train=False,\n",
        "                                       download=True, transform=transform)\n",
        "testloader = torch.utils.data.DataLoader(testset, batch_size=batch_size,\n",
        "                                         shuffle=False, num_workers=2)\n",
        "\n",
        "# Specify the device to use (GPU if available)\n",
        "device = torch.device(\"cuda:0\" if torch.cuda.is_available() else \"cpu\")\n",
        "net = Net().to(device)\n",
        "\n",
        "# Define the loss function and optimizer\n",
        "criterion = nn.CrossEntropyLoss()\n",
        "optimizer = optim.Adam(net.parameters(), lr=0.001) # You can experiment with the learning rate\n",
        "\n",
        "# --- Training the Network ---\n",
        "print(\"Starting Training\")\n",
        "num_epochs = 10 # You can adjust the number of training epochs\n",
        "\n",
        "for epoch in range(num_epochs):\n",
        "    running_loss = 0.0\n",
        "    for i, data in enumerate(trainloader, 0):\n",
        "        inputs, labels = data\n",
        "        inputs, labels = inputs.to(device), labels.to(device)\n",
        "\n",
        "        # Zero the parameter gradients\n",
        "        optimizer.zero_grad()\n",
        "\n",
        "        # Forward pass\n",
        "        outputs = net(inputs)\n",
        "        loss = criterion(outputs, labels)\n",
        "\n",
        "        # Backward pass and optimize\n",
        "        loss.backward()\n",
        "        optimizer.step()\n",
        "\n",
        "        # Print statistics\n",
        "        running_loss += loss.item()\n",
        "        if i % 200 == 199:  # Print every 200 mini-batches\n",
        "            print(f'[{epoch + 1}, {i + 1:5d}] loss: {running_loss / 200:.3f}')\n",
        "            running_loss = 0.0\n",
        "\n",
        "print('Finished Training')\n",
        "\n",
        "# --- Evaluate the network on the test data ---\n",
        "print(\"Starting Evaluation on Test Data\")\n",
        "correct = 0\n",
        "total = 0\n",
        "with torch.no_grad():\n",
        "    for data in testloader:\n",
        "        images, labels = data\n",
        "        images, labels = images.to(device), labels.to(device)\n",
        "        outputs = net(images)\n",
        "        _, predicted = torch.max(outputs.data, 1)\n",
        "        total += labels.size(0)\n",
        "        correct += (predicted == labels).sum().item()\n",
        "\n",
        "print(f'Accuracy of the network on the 10000 test images: {100 * correct / total:.2f}%')\n",
        "\n",
        "# You can also check accuracy per class if you want\n",
        "class_correct = list(0. for i in range(10))\n",
        "class_total = list(0. for i in range(10))\n",
        "with torch.no_grad():\n",
        "    for data in testloader:\n",
        "        images, labels = data\n",
        "        images, labels = images.to(device), labels.to(device)\n",
        "        outputs = net(images)\n",
        "        _, predicted = torch.max(outputs, 1)\n",
        "        c = (predicted == labels).squeeze()\n",
        "        for i in range(4): # Assuming batch size of 4 here, adjust if needed\n",
        "            label = labels[i]\n",
        "            class_correct[label] += c[i].item()\n",
        "            class_total[label] += 1\n",
        "\n",
        "classes = ('plane', 'car', 'bird', 'cat',\n",
        "           'deer', 'dog', 'frog', 'horse', 'ship', 'truck')\n",
        "\n",
        "for i in range(10):\n",
        "    print(f'Accuracy of {classes[i]:5s} : {100 * class_correct[i] / class_total[i]:.2f}%')\n",
        "\n",
        "# Optionally, you can save the trained model\n",
        "# PATH = './cifar_net.pth'\n",
        "# torch.save(net.state_dict(), PATH)"
      ]
    },
    {
      "cell_type": "markdown",
      "metadata": {
        "id": "Bi215-Q0U6Fh"
      },
      "source": [
        "5. Test the network on the test data\n",
        "^^^^^^^^^^^^^^^^^^^^^^^^^^^^^^^^^^^^\n",
        "\n",
        "We have trained the network for 2 passes over the training dataset.\n",
        "But we need to check if the network has learnt anything at all.\n",
        "\n",
        "We will check this by predicting the class label that the neural network\n",
        "outputs, and checking it against the ground-truth. If the prediction is\n",
        "correct, we add the sample to the list of correct predictions.\n",
        "\n",
        "Okay, first step. Let us display an image from the test set to get familiar.\n",
        "\n"
      ]
    },
    {
      "cell_type": "code",
      "execution_count": 92,
      "metadata": {
        "colab": {
          "base_uri": "https://localhost:8080/",
          "height": 211
        },
        "id": "fNkrPTxuU6Fh",
        "outputId": "f520e97c-9bce-4175-9f6e-71e422577a3f"
      },
      "outputs": [
        {
          "output_type": "stream",
          "name": "stdout",
          "text": [
            "GroundTruth:  deer  bird plane  ship\n"
          ]
        },
        {
          "output_type": "display_data",
          "data": {
            "text/plain": [
              "<Figure size 640x480 with 1 Axes>"
            ],
            "image/png": "[encoded data removed]"
          },
          "metadata": {}
        }
      ],
      "source": [
        "import random\n",
        "\n",
        "indices = random.sample(range(len(testset)), 4)\n",
        "images = torch.stack([testset[i][0] for i in indices])\n",
        "labels = torch.tensor([testset[i][1] for i in indices])\n",
        "\n",
        "imshow(torchvision.utils.make_grid(images))\n",
        "print('GroundTruth:', ' '.join('%5s' % classes[labels[j]] for j in range(4)))\n"
      ]
    },
    {
      "cell_type": "markdown",
      "metadata": {
        "id": "7X9UQPN2U6Fh"
      },
      "source": [
        "\\Okay, now let us see what the neural network thinks these examples above are:\n",
        "\n"
      ]
    },
    {
      "cell_type": "code",
      "execution_count": 115,
      "metadata": {
        "colab": {
          "base_uri": "https://localhost:8080/",
          "height": 228
        },
        "id": "GBBnchCAU6Fh",
        "outputId": "c740aaa8-c307-4e79-c847-585f71fab35a"
      },
      "outputs": [
        {
          "output_type": "stream",
          "name": "stdout",
          "text": [
            "GroundTruth:   horse |  frog |   car |   cat\n",
            "Network thinks:  frog | plane | plane | plane\n"
          ]
        },
        {
          "output_type": "display_data",
          "data": {
            "text/plain": [
              "<Figure size 640x480 with 1 Axes>"
            ],
            "image/png": "[encoded data removed]"
          },
          "metadata": {}
        }
      ],
      "source": [
        "import random\n",
        "\n",
        "# Sample 4 random indices from the test set\n",
        "indices = random.sample(range(len(testset)), 4)\n",
        "images = torch.stack([testset[i][0] for i in indices])\n",
        "labels = torch.tensor([testset[i][1] for i in indices])\n",
        "\n",
        "# Move images to device\n",
        "images = images.to(device)\n",
        "\n",
        "# Show images\n",
        "imshow(torchvision.utils.make_grid(images.cpu()))\n",
        "print(\"GroundTruth:  \", ' | '.join('%5s' % classes[labels[j]] for j in range(4)))\n",
        "\n",
        "# Predict\n",
        "net.eval()  # Set model to evaluation mode\n",
        "with torch.no_grad():\n",
        "    outputs = net(images)  # Forward pass\n",
        "    _, predicted = torch.max(outputs, 1)\n",
        "\n",
        "print(\"Network thinks:\", ' | '.join('%5s' % classes[predicted[j]] for j in range(4)))\n"
      ]
    },
    {
      "cell_type": "markdown",
      "metadata": {
        "id": "lDT7GZD1U6Fh"
      },
      "source": [
        "The outputs are energies for the 10 classes.\n",
        "Higher the energy for a class, the more the network\n",
        "thinks that the image is of the particular class.\n",
        "So, let's get the index of the highest energy:\n",
        "\n"
      ]
    },
    {
      "cell_type": "code",
      "execution_count": 108,
      "metadata": {
        "colab": {
          "base_uri": "https://localhost:8080/"
        },
        "id": "O_uOEQ1mU6Fh",
        "outputId": "c562f8dd-8ace-46c1-978c-4899905b9dc8"
      },
      "outputs": [
        {
          "output_type": "stream",
          "name": "stdout",
          "text": [
            "All parameter tensors:\n",
            "Parameter containing:\n",
            "tensor([[-0.0607, -0.1061, -0.1980,  0.2432, -0.0044, -0.2815, -0.2774,  0.3134,\n",
            "         -0.2886, -0.1183],\n",
            "        [-0.1968,  0.0711,  0.1619,  0.1910,  0.2801, -0.2342, -0.0287,  0.0406,\n",
            "         -0.0231,  0.1388],\n",
            "        [-0.2479,  0.2367,  0.2329,  0.1721,  0.0854,  0.1201, -0.1708, -0.2649,\n",
            "          0.2355, -0.0778],\n",
            "        [ 0.0273, -0.0792,  0.0756, -0.0898,  0.2509, -0.2819, -0.2449,  0.1189,\n",
            "         -0.2159,  0.0414],\n",
            "        [-0.1080, -0.1916,  0.2001, -0.0452,  0.2349,  0.2249,  0.2530,  0.1768,\n",
            "         -0.1443, -0.0462],\n",
            "        [ 0.0525, -0.2510,  0.1100, -0.2710,  0.1801, -0.0326,  0.3068,  0.1724,\n",
            "         -0.0371, -0.0925],\n",
            "        [-0.2597, -0.2224,  0.1822,  0.1507,  0.2655,  0.1089,  0.1830,  0.1381,\n",
            "         -0.1037,  0.3083],\n",
            "        [ 0.2050, -0.2913, -0.1802, -0.3064,  0.1977,  0.2412,  0.1148, -0.2285,\n",
            "          0.1239, -0.0314],\n",
            "        [ 0.2735,  0.0016, -0.2949,  0.0713,  0.1805, -0.1209,  0.0191,  0.1893,\n",
            "         -0.2921,  0.0249],\n",
            "        [ 0.0543, -0.0624, -0.2564, -0.0907,  0.2814, -0.3048,  0.0166, -0.1818,\n",
            "         -0.1721, -0.1950],\n",
            "        [ 0.1820, -0.0948,  0.1338,  0.0618,  0.0721, -0.2859, -0.1353,  0.0067,\n",
            "          0.2418,  0.1432],\n",
            "        [-0.1294, -0.1765, -0.0935, -0.0162,  0.0183, -0.1826,  0.3060, -0.1097,\n",
            "         -0.3068, -0.3122],\n",
            "        [-0.0324,  0.2236,  0.2422, -0.0615,  0.3137, -0.2281,  0.2578, -0.2818,\n",
            "          0.0574,  0.1278],\n",
            "        [ 0.0696,  0.2673,  0.2684, -0.3089,  0.1521,  0.2564, -0.2634,  0.1872,\n",
            "          0.1540, -0.2441],\n",
            "        [-0.0010,  0.0063, -0.1022,  0.1326, -0.0682, -0.2540, -0.0619, -0.1949,\n",
            "          0.0722, -0.0319],\n",
            "        [-0.0967, -0.2208,  0.2193,  0.2521, -0.1400, -0.1214, -0.2774, -0.0448,\n",
            "         -0.0510, -0.2337],\n",
            "        [ 0.2287, -0.1629,  0.3070, -0.2811,  0.3101,  0.0870, -0.0066,  0.3082,\n",
            "         -0.2597, -0.1597],\n",
            "        [ 0.0697, -0.2708,  0.1755, -0.1207,  0.2335,  0.0748, -0.2636,  0.0044,\n",
            "          0.0556, -0.0031],\n",
            "        [ 0.1816,  0.1911, -0.2711,  0.1262, -0.1670,  0.1301, -0.1511,  0.1213,\n",
            "          0.0427,  0.1841],\n",
            "        [-0.1521,  0.2028,  0.2565,  0.0705,  0.2030, -0.2733, -0.1958, -0.1431,\n",
            "         -0.2751,  0.0143]], requires_grad=True)\n",
            "Parameter containing:\n",
            "tensor([-0.0079, -0.1156,  0.0421,  0.1920,  0.1413, -0.0759, -0.1881,  0.2545,\n",
            "        -0.0417, -0.0092,  0.1745, -0.1318,  0.1530,  0.1601,  0.1235,  0.2588,\n",
            "         0.1006, -0.2015,  0.2550, -0.0534], requires_grad=True)\n",
            "Parameter containing:\n",
            "tensor([[ 0.1632, -0.0105, -0.0373, -0.1309, -0.1255, -0.0215,  0.1386,  0.0573,\n",
            "          0.0202,  0.0906, -0.0007, -0.1510,  0.1009,  0.0882, -0.0216,  0.1441,\n",
            "          0.2221, -0.0857,  0.2179, -0.0672],\n",
            "        [-0.1345,  0.1507, -0.1906,  0.1033,  0.1437,  0.0980,  0.0027,  0.0810,\n",
            "          0.0048,  0.0178, -0.0603,  0.0321, -0.0071, -0.0477,  0.1971,  0.1706,\n",
            "          0.0860, -0.2012,  0.0429,  0.1836],\n",
            "        [ 0.1244, -0.0014, -0.1456, -0.1769, -0.1340, -0.0198,  0.1104, -0.1171,\n",
            "         -0.0152, -0.0879, -0.0531, -0.0787,  0.1245, -0.0431, -0.1764, -0.1962,\n",
            "          0.1256, -0.0276, -0.0726,  0.1100],\n",
            "        [ 0.0185, -0.1778, -0.1825, -0.0170, -0.2194, -0.0289, -0.2196,  0.1759,\n",
            "          0.1186,  0.1083,  0.0103, -0.1406,  0.1476,  0.1840, -0.0783,  0.2223,\n",
            "         -0.0104,  0.0930,  0.1294,  0.0281],\n",
            "        [ 0.1999,  0.2018,  0.1612, -0.1021,  0.0669, -0.0156, -0.1880,  0.1579,\n",
            "         -0.1503,  0.1911, -0.2134,  0.1739, -0.0379,  0.1561,  0.1612,  0.1196,\n",
            "         -0.1074, -0.2041, -0.0601,  0.0331]], requires_grad=True)\n",
            "Parameter containing:\n",
            "tensor([-0.1855,  0.0709,  0.0714,  0.1174,  0.1993], requires_grad=True)\n",
            "\n",
            "Parameter names and tensors:\n",
            "fc1.weight: Parameter containing:\n",
            "tensor([[-0.0607, -0.1061, -0.1980,  0.2432, -0.0044, -0.2815, -0.2774,  0.3134,\n",
            "         -0.2886, -0.1183],\n",
            "        [-0.1968,  0.0711,  0.1619,  0.1910,  0.2801, -0.2342, -0.0287,  0.0406,\n",
            "         -0.0231,  0.1388],\n",
            "        [-0.2479,  0.2367,  0.2329,  0.1721,  0.0854,  0.1201, -0.1708, -0.2649,\n",
            "          0.2355, -0.0778],\n",
            "        [ 0.0273, -0.0792,  0.0756, -0.0898,  0.2509, -0.2819, -0.2449,  0.1189,\n",
            "         -0.2159,  0.0414],\n",
            "        [-0.1080, -0.1916,  0.2001, -0.0452,  0.2349,  0.2249,  0.2530,  0.1768,\n",
            "         -0.1443, -0.0462],\n",
            "        [ 0.0525, -0.2510,  0.1100, -0.2710,  0.1801, -0.0326,  0.3068,  0.1724,\n",
            "         -0.0371, -0.0925],\n",
            "        [-0.2597, -0.2224,  0.1822,  0.1507,  0.2655,  0.1089,  0.1830,  0.1381,\n",
            "         -0.1037,  0.3083],\n",
            "        [ 0.2050, -0.2913, -0.1802, -0.3064,  0.1977,  0.2412,  0.1148, -0.2285,\n",
            "          0.1239, -0.0314],\n",
            "        [ 0.2735,  0.0016, -0.2949,  0.0713,  0.1805, -0.1209,  0.0191,  0.1893,\n",
            "         -0.2921,  0.0249],\n",
            "        [ 0.0543, -0.0624, -0.2564, -0.0907,  0.2814, -0.3048,  0.0166, -0.1818,\n",
            "         -0.1721, -0.1950],\n",
            "        [ 0.1820, -0.0948,  0.1338,  0.0618,  0.0721, -0.2859, -0.1353,  0.0067,\n",
            "          0.2418,  0.1432],\n",
            "        [-0.1294, -0.1765, -0.0935, -0.0162,  0.0183, -0.1826,  0.3060, -0.1097,\n",
            "         -0.3068, -0.3122],\n",
            "        [-0.0324,  0.2236,  0.2422, -0.0615,  0.3137, -0.2281,  0.2578, -0.2818,\n",
            "          0.0574,  0.1278],\n",
            "        [ 0.0696,  0.2673,  0.2684, -0.3089,  0.1521,  0.2564, -0.2634,  0.1872,\n",
            "          0.1540, -0.2441],\n",
            "        [-0.0010,  0.0063, -0.1022,  0.1326, -0.0682, -0.2540, -0.0619, -0.1949,\n",
            "          0.0722, -0.0319],\n",
            "        [-0.0967, -0.2208,  0.2193,  0.2521, -0.1400, -0.1214, -0.2774, -0.0448,\n",
            "         -0.0510, -0.2337],\n",
            "        [ 0.2287, -0.1629,  0.3070, -0.2811,  0.3101,  0.0870, -0.0066,  0.3082,\n",
            "         -0.2597, -0.1597],\n",
            "        [ 0.0697, -0.2708,  0.1755, -0.1207,  0.2335,  0.0748, -0.2636,  0.0044,\n",
            "          0.0556, -0.0031],\n",
            "        [ 0.1816,  0.1911, -0.2711,  0.1262, -0.1670,  0.1301, -0.1511,  0.1213,\n",
            "          0.0427,  0.1841],\n",
            "        [-0.1521,  0.2028,  0.2565,  0.0705,  0.2030, -0.2733, -0.1958, -0.1431,\n",
            "         -0.2751,  0.0143]], requires_grad=True)\n",
            "fc1.bias: Parameter containing:\n",
            "tensor([-0.0079, -0.1156,  0.0421,  0.1920,  0.1413, -0.0759, -0.1881,  0.2545,\n",
            "        -0.0417, -0.0092,  0.1745, -0.1318,  0.1530,  0.1601,  0.1235,  0.2588,\n",
            "         0.1006, -0.2015,  0.2550, -0.0534], requires_grad=True)\n",
            "fc2.weight: Parameter containing:\n",
            "tensor([[ 0.1632, -0.0105, -0.0373, -0.1309, -0.1255, -0.0215,  0.1386,  0.0573,\n",
            "          0.0202,  0.0906, -0.0007, -0.1510,  0.1009,  0.0882, -0.0216,  0.1441,\n",
            "          0.2221, -0.0857,  0.2179, -0.0672],\n",
            "        [-0.1345,  0.1507, -0.1906,  0.1033,  0.1437,  0.0980,  0.0027,  0.0810,\n",
            "          0.0048,  0.0178, -0.0603,  0.0321, -0.0071, -0.0477,  0.1971,  0.1706,\n",
            "          0.0860, -0.2012,  0.0429,  0.1836],\n",
            "        [ 0.1244, -0.0014, -0.1456, -0.1769, -0.1340, -0.0198,  0.1104, -0.1171,\n",
            "         -0.0152, -0.0879, -0.0531, -0.0787,  0.1245, -0.0431, -0.1764, -0.1962,\n",
            "          0.1256, -0.0276, -0.0726,  0.1100],\n",
            "        [ 0.0185, -0.1778, -0.1825, -0.0170, -0.2194, -0.0289, -0.2196,  0.1759,\n",
            "          0.1186,  0.1083,  0.0103, -0.1406,  0.1476,  0.1840, -0.0783,  0.2223,\n",
            "         -0.0104,  0.0930,  0.1294,  0.0281],\n",
            "        [ 0.1999,  0.2018,  0.1612, -0.1021,  0.0669, -0.0156, -0.1880,  0.1579,\n",
            "         -0.1503,  0.1911, -0.2134,  0.1739, -0.0379,  0.1561,  0.1612,  0.1196,\n",
            "         -0.1074, -0.2041, -0.0601,  0.0331]], requires_grad=True)\n",
            "fc2.bias: Parameter containing:\n",
            "tensor([-0.1855,  0.0709,  0.0714,  0.1174,  0.1993], requires_grad=True)\n",
            "\n",
            "Parameter shapes:\n",
            "fc1.weight: torch.Size([20, 10])\n",
            "fc1.bias: torch.Size([20])\n",
            "fc2.weight: torch.Size([5, 20])\n",
            "fc2.bias: torch.Size([5])\n",
            "\n",
            "Total number of parameters: 325\n",
            "\n",
            "Total trainable parameters: 325\n"
          ]
        }
      ],
      "source": [
        "import torch\n",
        "import torch.nn as nn\n",
        "\n",
        "# Example model\n",
        "class SimpleNet(nn.Module):\n",
        "    def __init__(self):\n",
        "        super(SimpleNet, self).__init__()\n",
        "        self.fc1 = nn.Linear(10, 20)\n",
        "        self.fc2 = nn.Linear(20, 5)\n",
        "\n",
        "    def forward(self, x):\n",
        "        x = self.fc1(x)\n",
        "        x = self.fc2(x)\n",
        "        return x\n",
        "\n",
        "model = SimpleNet()\n",
        "\n",
        "# 1. Print all parameter tensors:\n",
        "print(\"All parameter tensors:\")\n",
        "for param in model.parameters():\n",
        "    print(param)\n",
        "\n",
        "# 2. Print parameter names and tensors:\n",
        "print(\"\\nParameter names and tensors:\")\n",
        "for name, param in model.named_parameters():\n",
        "    print(f\"{name}: {param}\")\n",
        "\n",
        "# 3. Print parameter shapes:\n",
        "print(\"\\nParameter shapes:\")\n",
        "for name, param in model.named_parameters():\n",
        "    print(f\"{name}: {param.shape}\")\n",
        "\n",
        "# 4. Print total number of parameters:\n",
        "total_params = sum(p.numel() for p in model.parameters())\n",
        "print(f\"\\nTotal number of parameters: {total_params}\")\n",
        "\n",
        "# 5. Print only the trainable parameters:\n",
        "total_trainable_params = sum(p.numel() for p in model.parameters() if p.requires_grad)\n",
        "print(f\"\\nTotal trainable parameters: {total_trainable_params}\")\n"
      ]
    },
    {
      "cell_type": "markdown",
      "metadata": {
        "id": "O-E4Rbd2U6Fh"
      },
      "source": [
        "The results seem pretty good.\n",
        "\n",
        "Let us look at how the network performs on the whole dataset.\n",
        "\n"
      ]
    },
    {
      "cell_type": "code",
      "execution_count": 110,
      "metadata": {
        "colab": {
          "base_uri": "https://localhost:8080/"
        },
        "id": "P0lOFVTHU6Fi",
        "outputId": "282be3ca-5ca4-44a7-cb16-1de67880a9ca"
      },
      "outputs": [
        {
          "output_type": "stream",
          "name": "stdout",
          "text": [
            "Accuracy of the network on the 10000 test images: 25 %\n"
          ]
        }
      ],
      "source": [
        "correct = 0\n",
        "total = 0\n",
        "with torch.no_grad():\n",
        "    for data in testloader:\n",
        "        images, labels = images.to(device), labels.to(device)\n",
        "        outputs = net(images)\n",
        "        _, predicted = torch.max(outputs.data, 1)\n",
        "        total += labels.size(0)\n",
        "        correct += (predicted == labels).sum().item()\n",
        "\n",
        "print('Accuracy of the network on the 10000 test images: %d %%' % (\n",
        "    100 * correct / total))"
      ]
    },
    {
      "cell_type": "markdown",
      "metadata": {
        "id": "QYoQp9tUU6Fi"
      },
      "source": [
        "That looks waaay better than chance, which is 10% accuracy (randomly picking\n",
        "a class out of 10 classes).\n",
        "Seems like the network learnt something.\n",
        "\n",
        "Hmmm, what are the classes that performed well, and the classes that did\n",
        "not perform well:\n",
        "\n"
      ]
    },
    {
      "cell_type": "code",
      "execution_count": null,
      "metadata": {
        "id": "c6CTHus9U6Fi"
      },
      "outputs": [],
      "source": [
        "class_correct = list(0. for i in range(10))\n",
        "class_total = list(0. for i in range(10))\n",
        "with torch.no_grad():\n",
        "    for data in testloader:\n",
        "        images, labels = data\n",
        "        outputs = net(images)\n",
        "        _, predicted = torch.max(outputs, 1)\n",
        "        c = (predicted == labels).squeeze()\n",
        "        for i in range(4):\n",
        "            label = labels[i]\n",
        "            class_correct[label] += c[i].item()\n",
        "            class_total[label] += 1\n",
        "\n",
        "\n",
        "for i in range(10):\n",
        "    print('Accuracy of %5s : %2d %%' % (\n",
        "        classes[i], 100 * class_correct[i] / class_total[i]))"
      ]
    },
    {
      "cell_type": "markdown",
      "metadata": {
        "id": "9c9X1NgUU6Fi"
      },
      "source": [
        "Okay, so what next?\n",
        "\n",
        "How do we run these neural networks on the GPU?\n",
        "\n",
        "Training on GPU\n",
        "----------------\n",
        "Just like how you transfer a Tensor on to the GPU, you transfer the neural\n",
        "net onto the GPU.\n",
        "\n",
        "Let's first define our device as the first visible cuda device if we have\n",
        "CUDA available:\n",
        "\n"
      ]
    },
    {
      "cell_type": "code",
      "execution_count": null,
      "metadata": {
        "id": "C3O_WPiTU6Fi"
      },
      "outputs": [],
      "source": [
        "device = torch.device(\"cuda:0\" if torch.cuda.is_available() else \"cpu\")\n",
        "\n",
        "# Assume that we are on a CUDA machine, then this should print a CUDA device:\n",
        "\n",
        "print(device)"
      ]
    },
    {
      "cell_type": "markdown",
      "metadata": {
        "id": "KRNCxghKU6Fj"
      },
      "source": [
        "The rest of this section assumes that `device` is a CUDA device.\n",
        "\n",
        "Then these methods will recursively go over all modules and convert their\n",
        "parameters and buffers to CUDA tensors:\n",
        "\n",
        ".. code:: python\n",
        "\n",
        "    net.to(device)\n",
        "\n",
        "\n",
        "Remember that you will have to send the inputs and targets at every step\n",
        "to the GPU too:\n",
        "\n",
        ".. code:: python\n",
        "\n",
        "        inputs, labels = inputs.to(device), labels.to(device)\n",
        "\n",
        "Why dont I notice MASSIVE speedup compared to CPU? Because your network\n",
        "is realllly small.\n",
        "\n",
        "**Exercise:** Try increasing the width of your network (argument 2 of\n",
        "the first ``nn.Conv2d``, and argument 1 of the second ``nn.Conv2d`` –\n",
        "they need to be the same number), see what kind of speedup you get.\n",
        "\n",
        "**Goals achieved**:\n",
        "\n",
        "- Understanding PyTorch's Tensor library and neural networks at a high level.\n",
        "- Train a small neural network to classify images\n",
        "\n",
        "Training on multiple GPUs\n",
        "-------------------------\n",
        "If you want to see even more MASSIVE speedup using all of your GPUs,\n",
        "please check out :doc:`data_parallel_tutorial`.\n",
        "\n",
        "Where do I go next?\n",
        "-------------------\n",
        "\n",
        "-  :doc:`Train neural nets to play video games </intermediate/reinforcement_q_learning>`\n",
        "-  `Train a state-of-the-art ResNet network on imagenet`_\n",
        "-  `Train a face generator using Generative Adversarial Networks`_\n",
        "-  `Train a word-level language model using Recurrent LSTM networks`_\n",
        "-  `More examples`_\n",
        "-  `More tutorials`_\n",
        "-  `Discuss PyTorch on the Forums`_\n",
        "-  `Chat with other users on Slack`_\n",
        "\n",
        "\n"
      ]
    }
  ],
  "metadata": {
    "kernelspec": {
      "display_name": "Python 3",
      "name": "python3"
    },
    "language_info": {
      "codemirror_mode": {
        "name": "ipython",
        "version": 3
      },
      "file_extension": ".py",
      "mimetype": "text/x-python",
      "name": "python",
      "nbconvert_exporter": "python",
      "pygments_lexer": "ipython3",
      "version": "3.6.6"
    },
    "colab": {
      "provenance": [],
      "gpuType": "T4"
    },
    "accelerator": "GPU"
  },
  "nbformat": 4,
  "nbformat_minor": 0
}