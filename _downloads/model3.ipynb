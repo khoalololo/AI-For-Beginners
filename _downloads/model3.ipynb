{
  "cells": [
    {
      "cell_type": "code",
      "execution_count": 2,
      "metadata": {
        "colab": {
          "base_uri": "https://localhost:8080/"
        },
        "id": "ZqUUC_6NEvEX",
        "outputId": "459901ab-7f39-4838-dd8e-b3dbe71c4ff3"
      },
      "outputs": [
        {
          "output_type": "stream",
          "name": "stdout",
          "text": [
            "Collecting torchinfo\n",
            "  Downloading torchinfo-1.8.0-py3-none-any.whl.metadata (21 kB)\n",
            "Downloading torchinfo-1.8.0-py3-none-any.whl (23 kB)\n",
            "Installing collected packages: torchinfo\n",
            "Successfully installed torchinfo-1.8.0\n"
          ]
        }
      ],
      "source": [
        "pip install torchinfo"
      ]
    },
    {
      "cell_type": "markdown",
      "metadata": {
        "id": "RiLm_ExAEvEZ"
      },
      "source": [
        "\n",
        "Training a Classifier\n",
        "=====================\n",
        "\n",
        "This is it. You have seen how to define neural networks, compute loss and make\n",
        "updates to the weights of the network.\n",
        "\n",
        "Now you might be thinking,\n",
        "\n",
        "What about data?\n",
        "----------------\n",
        "\n",
        "Generally, when you have to deal with image, text, audio or video data,\n",
        "you can use standard python packages that load data into a numpy array.\n",
        "Then you can convert this array into a ``torch.*Tensor``.\n",
        "\n",
        "-  For images, packages such as Pillow, OpenCV are useful\n",
        "-  For audio, packages such as scipy and librosa\n",
        "-  For text, either raw Python or Cython based loading, or NLTK and\n",
        "   SpaCy are useful\n",
        "\n",
        "Specifically for vision, we have created a package called\n",
        "``torchvision``, that has data loaders for common datasets such as\n",
        "Imagenet, CIFAR10, MNIST, etc. and data transformers for images, viz.,\n",
        "``torchvision.datasets`` and ``torch.utils.data.DataLoader``.\n",
        "\n",
        "This provides a huge convenience and avoids writing boilerplate code.\n",
        "\n",
        "For this tutorial, we will use the CIFAR10 dataset.\n",
        "It has the classes: ‘airplane’, ‘automobile’, ‘bird’, ‘cat’, ‘deer’,\n",
        "‘dog’, ‘frog’, ‘horse’, ‘ship’, ‘truck’. The images in CIFAR-10 are of\n",
        "size 3x32x32, i.e. 3-channel color images of 32x32 pixels in size.\n",
        "\n",
        ".. figure:: /_static/img/cifar10.png\n",
        "   :alt: cifar10\n",
        "\n",
        "   cifar10\n",
        "\n",
        "\n",
        "Training an image classifier\n",
        "----------------------------\n",
        "\n",
        "We will do the following steps in order:\n",
        "\n",
        "1. Load and normalizing the CIFAR10 training and test datasets using\n",
        "   ``torchvision``\n",
        "2. Define a Convolution Neural Network\n",
        "3. Define a loss function\n",
        "4. Train the network on the training data\n",
        "5. Test the network on the test data\n",
        "\n",
        "1. Loading and normalizing CIFAR10\n",
        "^^^^^^^^^^^^^^^^^^^^^^^^^^^^^^^^^^\n",
        "\n",
        "Using ``torchvision``, it’s extremely easy to load CIFAR10.\n",
        "\n"
      ]
    },
    {
      "cell_type": "code",
      "execution_count": 3,
      "metadata": {
        "colab": {
          "base_uri": "https://localhost:8080/"
        },
        "id": "NAOYH4XpEvEc",
        "outputId": "d3a5d15b-6e5b-43d0-8753-1f2bec6d2b63"
      },
      "outputs": [
        {
          "output_type": "stream",
          "name": "stdout",
          "text": [
            "cuda:0\n"
          ]
        }
      ],
      "source": [
        "import torch\n",
        "import torchvision\n",
        "import torchvision.transforms as transforms\n",
        "device = torch.device(\"cuda:0\" if torch.cuda.is_available() else \"cpu\")\n",
        "\n",
        "\n",
        "print(device)"
      ]
    },
    {
      "cell_type": "markdown",
      "metadata": {
        "id": "pCwwHg-QEvEd"
      },
      "source": [
        "The output of torchvision datasets are PILImage images of range [0, 1].\n",
        "We transform them to Tensors of normalized range [-1, 1].\n",
        "\n"
      ]
    },
    {
      "cell_type": "code",
      "execution_count": 12,
      "metadata": {
        "id": "UyXVbl1DEvEe"
      },
      "outputs": [],
      "source": [
        "transform = transforms.Compose(\n",
        "    [transforms.ToTensor(),\n",
        "     transforms.Normalize((0.5, 0.5, 0.5), (0.5, 0.5, 0.5))])\n",
        "\n",
        "trainset = torchvision.datasets.CIFAR10(root='./data', train=True,\n",
        "                                        download=True, transform=transform)\n",
        "trainloader = torch.utils.data.DataLoader(trainset, batch_size=4,\n",
        "                                          shuffle=True, num_workers=2)\n",
        "\n",
        "testset = torchvision.datasets.CIFAR10(root='./data', train=False,\n",
        "                                       download=True, transform=transform)\n",
        "testloader = torch.utils.data.DataLoader(testset, batch_size=4,\n",
        "                                         shuffle=False, num_workers=2)\n",
        "\n",
        "classes = ('plane', 'car', 'bird', 'cat',\n",
        "           'deer', 'dog', 'frog', 'horse', 'ship', 'truck')"
      ]
    },
    {
      "cell_type": "markdown",
      "metadata": {
        "id": "ev4NICetEvEf"
      },
      "source": [
        "Let us show some of the training images, for fun.\n",
        "\n"
      ]
    },
    {
      "cell_type": "code",
      "execution_count": 11,
      "metadata": {
        "colab": {
          "base_uri": "https://localhost:8080/",
          "height": 211
        },
        "id": "M4_rFR9jEvEf",
        "outputId": "60105e16-fe88-4423-e02c-15de5f7d328c"
      },
      "outputs": [
        {
          "output_type": "stream",
          "name": "stdout",
          "text": [
            " bird truck  bird horse\n"
          ]
        },
        {
          "output_type": "display_data",
          "data": {
            "text/plain": [
              "<Figure size 640x480 with 1 Axes>"
            ],
            "image/png": "[encoded data removed]"
          },
          "metadata": {}
        }
      ],
      "source": [
        "import matplotlib.pyplot as plt\n",
        "import numpy as np\n",
        "\n",
        "# functions to show an image\n",
        "\n",
        "\n",
        "def imshow(img):\n",
        "    img = img / 2 + 0.5     # unnormalize\n",
        "    npimg = img.numpy()\n",
        "    plt.imshow(np.transpose(npimg, (1, 2, 0)))\n",
        "\n",
        "\n",
        "# get some random training images\n",
        "dataiter = iter(trainloader)\n",
        "images, labels = next(dataiter)\n",
        "\n",
        "# show images\n",
        "imshow(torchvision.utils.make_grid(images))\n",
        "# print labels\n",
        "print(' '.join('%5s' % classes[labels[j]] for j in range(4)))"
      ]
    },
    {
      "cell_type": "markdown",
      "metadata": {
        "id": "YI3MbqodEvEg"
      },
      "source": [
        "2. Define a Convolution Neural Network\n",
        "^^^^^^^^^^^^^^^^^^^^^^^^^^^^^^^^^^^^^^\n",
        "Copy the neural network from the Neural Networks section before and modify it to\n",
        "take 3-channel images (instead of 1-channel images as it was defined).\n",
        "\n"
      ]
    },
    {
      "cell_type": "code",
      "execution_count": 62,
      "metadata": {
        "colab": {
          "base_uri": "https://localhost:8080/"
        },
        "id": "W9IiREVXEvEh",
        "outputId": "d0bf4ce4-9541-45f8-9f4e-7b8dba107c06"
      },
      "outputs": [
        {
          "output_type": "stream",
          "name": "stdout",
          "text": [
            "----------------------------------------------------------------\n",
            "        Layer (type)               Output Shape         Param #\n",
            "================================================================\n",
            "            Conv2d-1           [-1, 32, 32, 32]             896\n",
            "       BatchNorm2d-2           [-1, 32, 32, 32]              64\n",
            "            Conv2d-3            [-1, 8, 32, 32]           2,312\n",
            "       BatchNorm2d-4            [-1, 8, 32, 32]              16\n",
            "            Conv2d-5            [-1, 8, 32, 32]             584\n",
            "       BatchNorm2d-6            [-1, 8, 32, 32]              16\n",
            "            Conv2d-7           [-1, 16, 32, 32]           1,168\n",
            "       BatchNorm2d-8           [-1, 16, 32, 32]              32\n",
            "            Conv2d-9           [-1, 16, 32, 32]           2,320\n",
            "      BatchNorm2d-10           [-1, 16, 32, 32]              32\n",
            "           Conv2d-11           [-1, 32, 32, 32]           4,640\n",
            "      BatchNorm2d-12           [-1, 32, 32, 32]              64\n",
            "           Conv2d-13           [-1, 32, 16, 16]           9,248\n",
            "      BatchNorm2d-14           [-1, 32, 16, 16]              64\n",
            "           Conv2d-15           [-1, 32, 16, 16]           9,248\n",
            "      BatchNorm2d-16           [-1, 32, 16, 16]              64\n",
            "           Conv2d-17           [-1, 32, 16, 16]           9,248\n",
            "      BatchNorm2d-18           [-1, 32, 16, 16]              64\n",
            "           Conv2d-19           [-1, 32, 16, 16]           9,248\n",
            "      BatchNorm2d-20           [-1, 32, 16, 16]              64\n",
            "           Conv2d-21            [-1, 8, 32, 32]           6,408\n",
            "      BatchNorm2d-22            [-1, 8, 32, 32]              16\n",
            "           Conv2d-23           [-1, 16, 32, 32]           3,216\n",
            "      BatchNorm2d-24           [-1, 16, 32, 32]              32\n",
            "           Conv2d-25           [-1, 32, 32, 32]          12,832\n",
            "      BatchNorm2d-26           [-1, 32, 32, 32]              64\n",
            "           Conv2d-27           [-1, 32, 32, 32]          25,632\n",
            "      BatchNorm2d-28           [-1, 32, 32, 32]              64\n",
            "           Conv2d-29           [-1, 32, 32, 32]          25,632\n",
            "      BatchNorm2d-30           [-1, 32, 32, 32]              64\n",
            "           Conv2d-31           [-1, 32, 16, 16]           9,248\n",
            "      BatchNorm2d-32           [-1, 32, 16, 16]              64\n",
            "           Conv2d-33           [-1, 32, 16, 16]           9,248\n",
            "      BatchNorm2d-34           [-1, 32, 16, 16]              64\n",
            "           Conv2d-35           [-1, 32, 16, 16]           9,248\n",
            "      BatchNorm2d-36           [-1, 32, 16, 16]              64\n",
            "           Conv2d-37           [-1, 32, 16, 16]           9,248\n",
            "      BatchNorm2d-38           [-1, 32, 16, 16]              64\n",
            "           Conv2d-39          [-1, 128, 16, 16]         204,928\n",
            "      BatchNorm2d-40          [-1, 128, 16, 16]             256\n",
            "           Conv2d-41          [-1, 256, 16, 16]         295,168\n",
            "      BatchNorm2d-42          [-1, 256, 16, 16]             512\n",
            "        MaxPool2d-43            [-1, 256, 8, 8]               0\n",
            "        MaxPool2d-44            [-1, 256, 4, 4]               0\n",
            "           Linear-45                  [-1, 300]       1,229,100\n",
            "      BatchNorm1d-46                  [-1, 300]             600\n",
            "           Linear-47                   [-1, 10]           3,010\n",
            "================================================================\n",
            "Total params: 1,894,174\n",
            "Trainable params: 1,894,174\n",
            "Non-trainable params: 0\n",
            "----------------------------------------------------------------\n",
            "Input size (MB): 0.01\n",
            "Forward/backward pass size (MB): 6.29\n",
            "Params size (MB): 7.23\n",
            "Estimated Total Size (MB): 13.52\n",
            "----------------------------------------------------------------\n"
          ]
        }
      ],
      "source": [
        "import torch\n",
        "import torch.nn as nn\n",
        "import torch.nn.functional as F\n",
        "from torchsummary import summary\n",
        "\n",
        "# Define the device to use (GPU if available, otherwise CPU)\n",
        "device = torch.device(\"cuda\" if torch.cuda.is_available() else \"cpu\")\n",
        "\n",
        "\n",
        "class Model3Optimized(nn.Module):\n",
        "    def __init__(self):\n",
        "        super(Model3Optimized, self).__init__()\n",
        "\n",
        "        self.conv0 = nn.Conv2d(3, 32, kernel_size=3, padding=1)\n",
        "        self.bn0 = nn.BatchNorm2d(32)\n",
        "\n",
        "        # 3x3 Convolutional Sequence\n",
        "        self.conv3x3_1 = nn.Conv2d(32, 8, kernel_size=3, padding=1)\n",
        "        self.bn3x3_1 = nn.BatchNorm2d(8)\n",
        "        self.conv3x3_2 = nn.Conv2d(8, 8, kernel_size=3, padding=1)\n",
        "        self.bn3x3_2 = nn.BatchNorm2d(8)\n",
        "        self.conv3x3_3 = nn.Conv2d(8, 16, kernel_size=3, padding=1)\n",
        "        self.bn3x3_3 = nn.BatchNorm2d(16)\n",
        "        self.conv3x3_4 = nn.Conv2d(16, 16, kernel_size=3, padding=1)\n",
        "        self.bn3x3_4 = nn.BatchNorm2d(16)\n",
        "        self.conv3x3_5 = nn.Conv2d(16, 32, kernel_size=3, padding=1)\n",
        "        self.bn3x3_5 = nn.BatchNorm2d(32)\n",
        "\n",
        "        # 3x3 Branches\n",
        "        self.conv3x3_6 = nn.Conv2d(32, 32, kernel_size=3, stride=2, padding=1)\n",
        "        self.bn3x3_6 = nn.BatchNorm2d(32)\n",
        "        self.conv3x3_7 = nn.Conv2d(32, 32, kernel_size=3, padding=1)\n",
        "        self.bn3x3_7 = nn.BatchNorm2d(32)\n",
        "        self.conv3x3_8 = nn.Conv2d(32, 32, kernel_size=3, stride=2, padding=1)\n",
        "        self.bn3x3_8 = nn.BatchNorm2d(32)\n",
        "        self.conv3x3_9 = nn.Conv2d(32, 32, kernel_size=3, padding=1)\n",
        "        self.bn3x3_9 = nn.BatchNorm2d(32)\n",
        "        self.conv3x3_10 = nn.Conv2d(128, 256, kernel_size=3, padding=1)\n",
        "        self.bn3x3_10 = nn.BatchNorm2d(256)\n",
        "\n",
        "\n",
        "        # 5x5 Convolutional Sequence\n",
        "        self.conv5x5_1 = nn.Conv2d(32, 8, kernel_size=5, padding=2)\n",
        "        self.bn5x5_1 = nn.BatchNorm2d(8)\n",
        "        self.conv5x5_2 = nn.Conv2d(8, 16, kernel_size=5, padding=2)\n",
        "        self.bn5x5_2 = nn.BatchNorm2d(16)\n",
        "        self.conv5x5_3 = nn.Conv2d(16, 32, kernel_size=5, padding=2)\n",
        "        self.bn5x5_3 = nn.BatchNorm2d(32)\n",
        "        self.conv5x5_4 = nn.Conv2d(32, 32, kernel_size=5, padding=2)\n",
        "        self.bn5x5_4 = nn.BatchNorm2d(32)\n",
        "        self.conv5x5_5 = nn.Conv2d(32, 32, kernel_size=5, padding=2)\n",
        "        self.bn5x5_5 = nn.BatchNorm2d(32)\n",
        "\n",
        "        # 5x5 Branches\n",
        "        self.conv5x5_10 = nn.Conv2d(64, 128, kernel_size=5, padding=2)\n",
        "        self.bn5x5_10_final = nn.BatchNorm2d(128)\n",
        "\n",
        "        # Max Pooling layers\n",
        "        self.pool1 = nn.MaxPool2d(kernel_size=2, stride=2)\n",
        "        self.pool2 = nn.MaxPool2d(kernel_size=2, stride=2)\n",
        "\n",
        "        self.fc1 = nn.Linear(4 * 4 * 256, 300)\n",
        "        self.bn_fc1 = nn.BatchNorm1d(300)\n",
        "        self.fc2 = nn.Linear(300, 10)\n",
        "\n",
        "\n",
        "    def forward(self, x):\n",
        "        x = F.relu(self.bn0(self.conv0(x)))\n",
        "        x_seq3x3 = F.relu(self.bn3x3_1(self.conv3x3_1(x)))\n",
        "        x_seq3x3 = F.relu(self.bn3x3_2(self.conv3x3_2(x_seq3x3)))\n",
        "        x_seq3x3 = F.relu(self.bn3x3_3(self.conv3x3_3(x_seq3x3)))\n",
        "        x_seq3x3 = F.relu(self.bn3x3_4(self.conv3x3_4(x_seq3x3)))\n",
        "        x_seq3x3_end = F.relu(self.bn3x3_5(self.conv3x3_5(x_seq3x3)))\n",
        "        # 3x3 Branches\n",
        "        branch3x3_a = F.relu(self.bn3x3_6(self.conv3x3_6(x_seq3x3_end)))\n",
        "        branch3x3_a = F.relu(self.bn3x3_7(self.conv3x3_7(branch3x3_a)))\n",
        "        branch3x3_b = F.relu(self.bn3x3_8(self.conv3x3_8(x_seq3x3_end)))\n",
        "        branch3x3_b = F.relu(self.bn3x3_9(self.conv3x3_9(branch3x3_b)))\n",
        "        # Concatenation 1\n",
        "        concat1_out = torch.cat([branch3x3_a, branch3x3_b], dim=1)\n",
        "        x_seq5x5 = F.relu(self.bn5x5_1(self.conv5x5_1(x_seq3x3_end)))\n",
        "        x_seq5x5 = F.relu(self.bn5x5_2(self.conv5x5_2(x_seq5x5)))\n",
        "        x_seq5x5 = F.relu(self.bn5x5_3(self.conv5x5_3(x_seq5x5)))\n",
        "        x1_sum1 = x_seq5x5\n",
        "        x_seq5x5 = F.relu(self.bn5x5_4(self.conv5x5_4(x1_sum1)))\n",
        "        x_seq5x5_end = F.relu(self.bn5x5_5(self.conv5x5_5(x_seq5x5)))\n",
        "        sum1_out = x1_sum1 + x_seq5x5_end\n",
        "\n",
        "        branch5x5_a = F.relu(self.bn3x3_6(self.conv3x3_6(sum1_out)))\n",
        "        branch5x5_a = F.relu(self.bn3x3_7(self.conv3x3_7(branch5x5_a)))\n",
        "        branch5x5_b = F.relu(self.bn3x3_8(self.conv3x3_8(sum1_out)))\n",
        "        branch5x5_b = F.relu(self.bn3x3_9(self.conv3x3_9(branch5x5_b)))\n",
        "        concat2_out = torch.cat([branch5x5_a, branch5x5_b], dim=1)\n",
        "        sumcat_out = concat1_out + concat2_out\n",
        "        x = F.relu(self.bn5x5_10_final(self.conv5x5_10(sumcat_out)))\n",
        "        x = F.relu(self.bn3x3_10(self.conv3x3_10(x)))\n",
        "        x = self.pool1(x)\n",
        "        x = self.pool2(x)\n",
        "\n",
        "        x = torch.flatten(x, 1)\n",
        "        x = F.relu(self.bn_fc1(self.fc1(x)))\n",
        "        x = self.fc2(x)\n",
        "\n",
        "        return x\n",
        "\n",
        "net = Model3Optimized().to(device)\n",
        "summary(net, (3, 32, 32))"
      ]
    },
    {
      "cell_type": "markdown",
      "metadata": {
        "id": "yRkweghTEvEj"
      },
      "source": [
        "3. Define a Loss function and optimizer\n",
        "^^^^^^^^^^^^^^^^^^^^^^^^^^^^^^^^^^^^^^^\n",
        "Let's use a Classification Cross-Entropy loss and SGD with momentum.\n",
        "\n"
      ]
    },
    {
      "cell_type": "code",
      "execution_count": 63,
      "metadata": {
        "id": "bXBw04LHEvEj"
      },
      "outputs": [],
      "source": [
        "import torch.optim as optim\n",
        "\n",
        "criterion = nn.CrossEntropyLoss()\n",
        "optimizer = optim.SGD(net.parameters(), lr=0.001, momentum=0.9)"
      ]
    },
    {
      "cell_type": "markdown",
      "metadata": {
        "id": "WPgofOBnEvEk"
      },
      "source": [
        "4. Train the network\n",
        "^^^^^^^^^^^^^^^^^^^^\n",
        "\n",
        "This is when things start to get interesting.\n",
        "We simply have to loop over our data iterator, and feed the inputs to the\n",
        "network and optimize.\n",
        "\n"
      ]
    },
    {
      "cell_type": "code",
      "execution_count": 64,
      "metadata": {
        "colab": {
          "base_uri": "https://localhost:8080/"
        },
        "id": "K4knfR9cEvEk",
        "outputId": "17778a5e-4c20-4f08-da42-9279f8a9dc7f"
      },
      "outputs": [
        {
          "output_type": "stream",
          "name": "stdout",
          "text": [
            "[1,  2000] loss: 2.028\n",
            "[1,  4000] loss: 1.780\n",
            "[1,  6000] loss: 1.624\n",
            "[1,  8000] loss: 1.512\n",
            "[1, 10000] loss: 1.422\n",
            "[1, 12000] loss: 1.346\n",
            "[2,  2000] loss: 1.226\n",
            "[2,  4000] loss: 1.219\n",
            "[2,  6000] loss: 1.211\n",
            "[2,  8000] loss: 1.143\n",
            "[2, 10000] loss: 1.145\n",
            "[2, 12000] loss: 1.111\n",
            "[3,  2000] loss: 1.045\n",
            "[3,  4000] loss: 1.058\n",
            "[3,  6000] loss: 1.016\n",
            "[3,  8000] loss: 0.987\n",
            "[3, 10000] loss: 0.994\n",
            "[3, 12000] loss: 0.977\n",
            "[4,  2000] loss: 0.928\n",
            "[4,  4000] loss: 0.918\n",
            "[4,  6000] loss: 0.907\n",
            "[4,  8000] loss: 0.916\n",
            "[4, 10000] loss: 0.896\n",
            "[4, 12000] loss: 0.867\n",
            "[5,  2000] loss: 0.824\n",
            "[5,  4000] loss: 0.824\n",
            "[5,  6000] loss: 0.826\n",
            "[5,  8000] loss: 0.822\n",
            "[5, 10000] loss: 0.820\n",
            "[5, 12000] loss: 0.829\n",
            "[6,  2000] loss: 0.738\n",
            "[6,  4000] loss: 0.756\n",
            "[6,  6000] loss: 0.749\n",
            "[6,  8000] loss: 0.772\n",
            "[6, 10000] loss: 0.767\n",
            "[6, 12000] loss: 0.759\n",
            "[7,  2000] loss: 0.693\n",
            "[7,  4000] loss: 0.677\n",
            "[7,  6000] loss: 0.703\n",
            "[7,  8000] loss: 0.719\n",
            "[7, 10000] loss: 0.699\n",
            "[7, 12000] loss: 0.707\n",
            "[8,  2000] loss: 0.595\n",
            "[8,  4000] loss: 0.639\n",
            "[8,  6000] loss: 0.646\n",
            "[8,  8000] loss: 0.642\n",
            "[8, 10000] loss: 0.663\n",
            "[8, 12000] loss: 0.650\n",
            "[9,  2000] loss: 0.583\n",
            "[9,  4000] loss: 0.596\n",
            "[9,  6000] loss: 0.595\n",
            "[9,  8000] loss: 0.597\n",
            "[9, 10000] loss: 0.641\n",
            "[9, 12000] loss: 0.612\n",
            "[10,  2000] loss: 0.518\n",
            "[10,  4000] loss: 0.524\n",
            "[10,  6000] loss: 0.561\n",
            "[10,  8000] loss: 0.562\n",
            "[10, 10000] loss: 0.572\n",
            "[10, 12000] loss: 0.575\n",
            "Finished Training\n"
          ]
        }
      ],
      "source": [
        "for epoch in range(10):  # loop over the dataset multiple times\n",
        "\n",
        "    running_loss = 0.0\n",
        "    for i, data in enumerate(trainloader, 0):\n",
        "        # get the inputs\n",
        "        inputs, labels = data\n",
        "        inputs, labels = inputs.to(device), labels.to(device)\n",
        "\n",
        "        # zero the parameter gradients\n",
        "        optimizer.zero_grad()\n",
        "\n",
        "        # forward + backward + optimize\n",
        "        outputs = net(inputs)\n",
        "        loss = criterion(outputs, labels)\n",
        "        loss.backward()\n",
        "        optimizer.step()\n",
        "\n",
        "        # print statistics\n",
        "        running_loss += loss.item()\n",
        "        if i % 2000 == 1999:    # print every 2000 mini-batches\n",
        "            print('[%d, %5d] loss: %.3f' %\n",
        "                  (epoch + 1, i + 1, running_loss / 2000))\n",
        "            running_loss = 0.0\n",
        "\n",
        "print('Finished Training')"
      ]
    },
    {
      "cell_type": "markdown",
      "metadata": {
        "id": "CGIkYMHXEvEl"
      },
      "source": [
        "5. Test the network on the test data\n",
        "^^^^^^^^^^^^^^^^^^^^^^^^^^^^^^^^^^^^\n",
        "\n",
        "We have trained the network for 2 passes over the training dataset.\n",
        "But we need to check if the network has learnt anything at all.\n",
        "\n",
        "We will check this by predicting the class label that the neural network\n",
        "outputs, and checking it against the ground-truth. If the prediction is\n",
        "correct, we add the sample to the list of correct predictions.\n",
        "\n",
        "Okay, first step. Let us display an image from the test set to get familiar.\n",
        "\n"
      ]
    },
    {
      "cell_type": "code",
      "execution_count": 65,
      "metadata": {
        "colab": {
          "base_uri": "https://localhost:8080/",
          "height": 211
        },
        "id": "_w78BXDNEvEl",
        "outputId": "fce14ace-5cd1-44b4-dfc6-e13292d69dbc"
      },
      "outputs": [
        {
          "output_type": "stream",
          "name": "stdout",
          "text": [
            "GroundTruth:    cat  ship  ship plane\n"
          ]
        },
        {
          "output_type": "display_data",
          "data": {
            "text/plain": [
              "<Figure size 640x480 with 1 Axes>"
            ],
            "image/png": "[encoded data removed]"
          },
          "metadata": {}
        }
      ],
      "source": [
        "dataiter = iter(testloader)\n",
        "images, labels = next(dataiter)\n",
        "\n",
        "# print images\n",
        "imshow(torchvision.utils.make_grid(images))\n",
        "print('GroundTruth: ', ' '.join('%5s' % classes[labels[j]] for j in range(4)))"
      ]
    },
    {
      "cell_type": "markdown",
      "metadata": {
        "id": "1tQmXFHqEvEl"
      },
      "source": [
        "Okay, now let us see what the neural network thinks these examples above are:\n",
        "\n"
      ]
    },
    {
      "cell_type": "code",
      "execution_count": null,
      "metadata": {
        "id": "Jn24h4c2EvEm"
      },
      "outputs": [],
      "source": [
        "outputs = net(images)"
      ]
    },
    {
      "cell_type": "markdown",
      "metadata": {
        "id": "eeBaFmGnEvEn"
      },
      "source": [
        "The outputs are energies for the 10 classes.\n",
        "Higher the energy for a class, the more the network\n",
        "thinks that the image is of the particular class.\n",
        "So, let's get the index of the highest energy:\n",
        "\n"
      ]
    },
    {
      "cell_type": "code",
      "execution_count": 70,
      "metadata": {
        "colab": {
          "base_uri": "https://localhost:8080/",
          "height": 228
        },
        "id": "48M5Rwp4EvEn",
        "outputId": "1964ee3f-ffc7-403a-9f2a-50999bb60a23"
      },
      "outputs": [
        {
          "output_type": "stream",
          "name": "stdout",
          "text": [
            "GroundTruth:    ship |   dog |   dog |  ship\n",
            "Network thinks:  ship |   dog |  bird |  ship\n"
          ]
        },
        {
          "output_type": "display_data",
          "data": {
            "text/plain": [
              "<Figure size 640x480 with 1 Axes>"
            ],
            "image/png": "[encoded data removed]"
          },
          "metadata": {}
        }
      ],
      "source": [
        "import random\n",
        "\n",
        "# Sample 4 random indices from the test set\n",
        "indices = random.sample(range(len(testset)), 4)\n",
        "images = torch.stack([testset[i][0] for i in indices])\n",
        "labels = torch.tensor([testset[i][1] for i in indices])\n",
        "\n",
        "# Move images to device\n",
        "images = images.to(device)\n",
        "\n",
        "# Show images\n",
        "imshow(torchvision.utils.make_grid(images.cpu()))\n",
        "print(\"GroundTruth:  \", ' | '.join('%5s' % classes[labels[j]] for j in range(4)))\n",
        "\n",
        "# Predict\n",
        "net.eval()  # Set model to evaluation mode\n",
        "with torch.no_grad():\n",
        "    outputs = net(images)  # Forward pass\n",
        "    _, predicted = torch.max(outputs, 1)\n",
        "\n",
        "print(\"Network thinks:\", ' | '.join('%5s' % classes[predicted[j]] for j in range(4)))"
      ]
    },
    {
      "cell_type": "markdown",
      "metadata": {
        "id": "KjmCjAA7EvEn"
      },
      "source": [
        "The results seem pretty good.\n",
        "\n",
        "Let us look at how the network performs on the whole dataset.\n",
        "\n"
      ]
    },
    {
      "cell_type": "code",
      "execution_count": 71,
      "metadata": {
        "colab": {
          "base_uri": "https://localhost:8080/"
        },
        "id": "moauFI8NEvEo",
        "outputId": "386d6cf8-0408-46da-835e-8b504a635315"
      },
      "outputs": [
        {
          "output_type": "stream",
          "name": "stdout",
          "text": [
            "Accuracy of the network on the 10000 test images: 75 %\n"
          ]
        }
      ],
      "source": [
        "correct = 0\n",
        "total = 0\n",
        "with torch.no_grad():\n",
        "    for data in testloader:\n",
        "        images, labels = data\n",
        "        images, labels = images.to(device), labels.to(device)\n",
        "        outputs = net(images)\n",
        "        _, predicted = torch.max(outputs.data, 1)\n",
        "        total += labels.size(0)\n",
        "        correct += (predicted == labels).sum().item()\n",
        "\n",
        "print('Accuracy of the network on the 10000 test images: %d %%' % (\n",
        "    100 * correct / total))"
      ]
    },
    {
      "cell_type": "markdown",
      "metadata": {
        "id": "uTvKoWFbEvEo"
      },
      "source": [
        "That looks waaay better than chance, which is 10% accuracy (randomly picking\n",
        "a class out of 10 classes).\n",
        "Seems like the network learnt something.\n",
        "\n",
        "Hmmm, what are the classes that performed well, and the classes that did\n",
        "not perform well:\n",
        "\n"
      ]
    },
    {
      "cell_type": "code",
      "execution_count": 72,
      "metadata": {
        "colab": {
          "base_uri": "https://localhost:8080/"
        },
        "id": "1rQQ3SniEvEo",
        "outputId": "a3408efb-77aa-4b66-97e5-1955fefc0d9a"
      },
      "outputs": [
        {
          "output_type": "stream",
          "name": "stdout",
          "text": [
            "Accuracy of plane : 82 %\n",
            "Accuracy of   car : 88 %\n",
            "Accuracy of  bird : 71 %\n",
            "Accuracy of   cat : 46 %\n",
            "Accuracy of  deer : 83 %\n",
            "Accuracy of   dog : 67 %\n",
            "Accuracy of  frog : 86 %\n",
            "Accuracy of horse : 66 %\n",
            "Accuracy of  ship : 73 %\n",
            "Accuracy of truck : 89 %\n"
          ]
        }
      ],
      "source": [
        "class_correct = list(0. for i in range(10))\n",
        "class_total = list(0. for i in range(10))\n",
        "with torch.no_grad():\n",
        "    for data in testloader:\n",
        "        images, labels = data\n",
        "        images, labels = images.to(device), labels.to(device)\n",
        "        outputs = net(images)\n",
        "        _, predicted = torch.max(outputs, 1)\n",
        "        c = (predicted == labels).squeeze()\n",
        "        for i in range(4):\n",
        "            label = labels[i]\n",
        "            class_correct[label] += c[i].item()\n",
        "            class_total[label] += 1\n",
        "\n",
        "\n",
        "for i in range(10):\n",
        "    print('Accuracy of %5s : %2d %%' % (\n",
        "        classes[i], 100 * class_correct[i] / class_total[i]))"
      ]
    },
    {
      "cell_type": "markdown",
      "metadata": {
        "id": "-vVWQSAEEvEp"
      },
      "source": [
        "Okay, so what next?\n",
        "\n",
        "How do we run these neural networks on the GPU?\n",
        "\n",
        "Training on GPU\n",
        "----------------\n",
        "Just like how you transfer a Tensor on to the GPU, you transfer the neural\n",
        "net onto the GPU.\n",
        "\n",
        "Let's first define our device as the first visible cuda device if we have\n",
        "CUDA available:\n",
        "\n"
      ]
    },
    {
      "cell_type": "code",
      "execution_count": null,
      "metadata": {
        "id": "yCKFCkLLEvEp"
      },
      "outputs": [],
      "source": [
        "device = torch.device(\"cuda:0\" if torch.cuda.is_available() else \"cpu\")\n",
        "\n",
        "# Assume that we are on a CUDA machine, then this should print a CUDA device:\n",
        "\n",
        "print(device)"
      ]
    },
    {
      "cell_type": "markdown",
      "metadata": {
        "id": "qipFJx2wEvEp"
      },
      "source": [
        "The rest of this section assumes that `device` is a CUDA device.\n",
        "\n",
        "Then these methods will recursively go over all modules and convert their\n",
        "parameters and buffers to CUDA tensors:\n",
        "\n",
        ".. code:: python\n",
        "\n",
        "    net.to(device)\n",
        "\n",
        "\n",
        "Remember that you will have to send the inputs and targets at every step\n",
        "to the GPU too:\n",
        "\n",
        ".. code:: python\n",
        "\n",
        "        inputs, labels = inputs.to(device), labels.to(device)\n",
        "\n",
        "Why dont I notice MASSIVE speedup compared to CPU? Because your network\n",
        "is realllly small.\n",
        "\n",
        "**Exercise:** Try increasing the width of your network (argument 2 of\n",
        "the first ``nn.Conv2d``, and argument 1 of the second ``nn.Conv2d`` –\n",
        "they need to be the same number), see what kind of speedup you get.\n",
        "\n",
        "**Goals achieved**:\n",
        "\n",
        "- Understanding PyTorch's Tensor library and neural networks at a high level.\n",
        "- Train a small neural network to classify images\n",
        "\n",
        "Training on multiple GPUs\n",
        "-------------------------\n",
        "If you want to see even more MASSIVE speedup using all of your GPUs,\n",
        "please check out :doc:`data_parallel_tutorial`.\n",
        "\n",
        "Where do I go next?\n",
        "-------------------\n",
        "\n",
        "-  :doc:`Train neural nets to play video games </intermediate/reinforcement_q_learning>`\n",
        "-  `Train a state-of-the-art ResNet network on imagenet`_\n",
        "-  `Train a face generator using Generative Adversarial Networks`_\n",
        "-  `Train a word-level language model using Recurrent LSTM networks`_\n",
        "-  `More examples`_\n",
        "-  `More tutorials`_\n",
        "-  `Discuss PyTorch on the Forums`_\n",
        "-  `Chat with other users on Slack`_\n",
        "\n",
        "\n"
      ]
    }
  ],
  "metadata": {
    "kernelspec": {
      "display_name": "Python 3",
      "name": "python3"
    },
    "language_info": {
      "codemirror_mode": {
        "name": "ipython",
        "version": 3
      },
      "file_extension": ".py",
      "mimetype": "text/x-python",
      "name": "python",
      "nbconvert_exporter": "python",
      "pygments_lexer": "ipython3",
      "version": "3.6.6"
    },
    "colab": {
      "provenance": [],
      "gpuType": "T4"
    },
    "accelerator": "GPU"
  },
  "nbformat": 4,
  "nbformat_minor": 0
}